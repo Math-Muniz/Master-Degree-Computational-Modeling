{
  "nbformat": 4,
  "nbformat_minor": 0,
  "metadata": {
    "colab": {
      "provenance": []
    },
    "kernelspec": {
      "name": "python3",
      "display_name": "Python 3"
    }
  },
  "cells": [
    {
      "cell_type": "markdown",
      "metadata": {
        "id": "YmZtpq2cJL74"
      },
      "source": [
        "# Brincando com expressões regulares"
      ]
    },
    {
      "cell_type": "markdown",
      "metadata": {
        "id": "z837vcaxJQvv"
      },
      "source": [
        "Vamos testar o uso de expressões regulares simulando um dos chatbots mais simples e mais famosos que existe: o Eliza.\n",
        "\n",
        "Eliza foi o primeiro chatbot que existiu e foi publicado neste artigo:\n",
        "```\n",
        "Weizenbaum, Joseph. (1966). ELIZA – A computer program for the study of natural language communication between man and machine. Communications of the ACM, 9(1), 36–45\n",
        "```\n",
        "\n",
        "O Eliza foi criado como uma série de padrões de texto que, uma vez encontrados, dá uma resposta determinística para o usuário. Esse chatbot, embora muito limitado, cria uma *ilusão de entendimento* da conversa, enganando o usuário.\n",
        "\n",
        "Algumas curiosidades sobre o Eliza: o chatbot foi criado para simular a conversa entre paciente e terapeuta. Ele foi tão surpreendentemente eficaz na época que parte da equipe do laboratório ficou travando conversas de vários minutos com o chatbot achando que ele estava realmente entendendo os problemas do usuário. Até hoje o Eliza é um exemplo para a área de *conversational agents* como um exemplo de demonstração de empatia entre máquina e ser humano.\n",
        "\n",
        "Você pode conhecer mais sobre o Eliza e até brincar com ela, usando [esse link](https://www.masswerk.at/elizabot/)."
      ]
    },
    {
      "cell_type": "markdown",
      "metadata": {
        "id": "RmEEeaDkLG4Y"
      },
      "source": [
        "## Tarefa da semana\n",
        "\n",
        "Nessa semana, vamos aplicar o conhecimento de expressões regulares para melhorar o código base de um chatbot baseado no Eliza. O código-base está disponível abaixo. Veja que ele usa padrões de substituição em regex (um por linha). Você pode rodar o código abaixo para testá-lo.\n",
        "\n",
        "O objetivo dessa semana é você inserir novos padrões para dar mais \"conhecimento\" e empatia para a sua Eliza. Mostre, com exemplos, como a conversa se tornou mais fluida ao criar esses novos padrões. Lembre-se, faça uso de expressões regulares e não apenas substituições simples.\n",
        "\n",
        "**Checklist para pontuação da tarefa:**\n",
        "\n",
        "- [X] Usar regex para identificar numerais\n",
        "- [X] Usar regex para identificar datas\n",
        "- [X] Usar regex para identificar palavras pré-determinadas e colocá-las na resposta\n",
        "- [X] Usar regex para identificar radicais de palavras (ex: esgota, esgotado, esgotamento ==> esgot)\n",
        "\n",
        "Divirta-se!\n"
      ]
    },
    {
      "cell_type": "markdown",
      "metadata": {
        "id": "IurIms3-JEcL"
      },
      "source": [
        "## Código do Eliza"
      ]
    },
    {
      "cell_type": "code",
      "metadata": {
        "colab": {
          "base_uri": "https://localhost:8080/",
          "height": 599
        },
        "id": "mQPdz4WFI-j4",
        "outputId": "caa85a95-2431-41e1-d2d4-fb6b5a72d72d"
      },
      "source": [
        "import re\n",
        "\n",
        "patterns = [\n",
        "    (r\"\\b(to|estou|eu estou)\\b\", \"Por que está\"),\n",
        "    (r\"\\b(sou|eu sou)\\b\", \"Por que você se acha\"),\n",
        "    (r\".*EU SOU (infeliz).*\", r\"POR QUE VOCE ESTA \\1?\"),\n",
        "    (r\".* todos .*\", \"Por que você acha isso?\"),\n",
        "    (r\".* sempre .*\", \"VOCE PODE PENSAR EM UM EXEMPLO ESPECIFICO?\"),\n",
        "    (r\"\\b(\\d{2}/\\d{2}/\\d{4}|\\d{2}-\\d{2}-\\d{4})\\b\", r\"ISSO PARECE SER UMA DATA IMPORTANTE: \\1, O QUE ACONTECEU NESSE DIA?\"),\n",
        "    (r\"(?<!/)(?<!-)\\b(\\d+)\\b(?!/)(?!-)\", r\"VOCÊ FALOU UM NÚMERO IMPORTANTE: \\1, PODE ME CONTAR MAIS SOBRE ISSO?\"),\n",
        "    (r\"\\b(feliz|triste|ansioso)\\b\", r\"\\1, PODE FALAR MAIS SOBRE ISSO?\"),\n",
        "    (r\"\\b(esgot\\w*)\\b\", r\"ESGOTADO, O QUE PODE TER CAUSADO ISSO?\")\n",
        "]\n",
        "\n",
        "while True:\n",
        "    comment = input()\n",
        "    response = comment.lower()\n",
        "    for pat, sub in patterns:\n",
        "        response = re.sub(pat, sub, response)\n",
        "    print(response.upper())"
      ],
      "execution_count": 10,
      "outputs": [
        {
          "output_type": "stream",
          "name": "stdout",
          "text": [
            "eu estou triste\n",
            "POR QUE ESTÁ TRISTE, PODE FALAR MAIS SOBRE ISSO?\n",
            "eu sou feliz\n",
            "POR QUE VOCÊ SE ACHA FELIZ, PODE FALAR MAIS SOBRE ISSO?\n",
            "eu estou esgotado\n",
            "POR QUE ESTÁ VOCÊ SE SENTE ESGOTADO, O QUE PODE TER CAUSADO ISSO?\n",
            "02/10/1995\n",
            "ISSO PARECE SER UMA DATA IMPORTANTE: 02/10/1995, O QUE ACONTECEU NESSE DIA?\n",
            "2\n",
            "VOCÊ FALOU UM NÚMERO IMPORTANTE: 2, PODE ME CONTAR MAIS SOBRE ISSO?\n",
            "eu sempre choro\n",
            "VOCE PODE PENSAR EM UM EXEMPLO ESPECIFICO?\n",
            "São todos chatos\n",
            "DE QUE FORMA?\n"
          ]
        },
        {
          "output_type": "error",
          "ename": "KeyboardInterrupt",
          "evalue": "Interrupted by user",
          "traceback": [
            "\u001b[0;31m---------------------------------------------------------------------------\u001b[0m",
            "\u001b[0;31mKeyboardInterrupt\u001b[0m                         Traceback (most recent call last)",
            "\u001b[0;32m<ipython-input-10-e41c4e581327>\u001b[0m in \u001b[0;36m<cell line: 16>\u001b[0;34m()\u001b[0m\n\u001b[1;32m     15\u001b[0m \u001b[0;34m\u001b[0m\u001b[0m\n\u001b[1;32m     16\u001b[0m \u001b[0;32mwhile\u001b[0m \u001b[0;32mTrue\u001b[0m\u001b[0;34m:\u001b[0m\u001b[0;34m\u001b[0m\u001b[0;34m\u001b[0m\u001b[0m\n\u001b[0;32m---> 17\u001b[0;31m     \u001b[0mcomment\u001b[0m \u001b[0;34m=\u001b[0m \u001b[0minput\u001b[0m\u001b[0;34m(\u001b[0m\u001b[0;34m)\u001b[0m\u001b[0;34m\u001b[0m\u001b[0;34m\u001b[0m\u001b[0m\n\u001b[0m\u001b[1;32m     18\u001b[0m     \u001b[0mresponse\u001b[0m \u001b[0;34m=\u001b[0m \u001b[0mcomment\u001b[0m\u001b[0;34m.\u001b[0m\u001b[0mlower\u001b[0m\u001b[0;34m(\u001b[0m\u001b[0;34m)\u001b[0m\u001b[0;34m\u001b[0m\u001b[0;34m\u001b[0m\u001b[0m\n\u001b[1;32m     19\u001b[0m     \u001b[0;32mfor\u001b[0m \u001b[0mpat\u001b[0m\u001b[0;34m,\u001b[0m \u001b[0msub\u001b[0m \u001b[0;32min\u001b[0m \u001b[0mpatterns\u001b[0m\u001b[0;34m:\u001b[0m\u001b[0;34m\u001b[0m\u001b[0;34m\u001b[0m\u001b[0m\n",
            "\u001b[0;32m/usr/local/lib/python3.10/dist-packages/ipykernel/kernelbase.py\u001b[0m in \u001b[0;36mraw_input\u001b[0;34m(self, prompt)\u001b[0m\n\u001b[1;32m    849\u001b[0m                 \u001b[0;34m\"raw_input was called, but this frontend does not support input requests.\"\u001b[0m\u001b[0;34m\u001b[0m\u001b[0;34m\u001b[0m\u001b[0m\n\u001b[1;32m    850\u001b[0m             )\n\u001b[0;32m--> 851\u001b[0;31m         return self._input_request(str(prompt),\n\u001b[0m\u001b[1;32m    852\u001b[0m             \u001b[0mself\u001b[0m\u001b[0;34m.\u001b[0m\u001b[0m_parent_ident\u001b[0m\u001b[0;34m,\u001b[0m\u001b[0;34m\u001b[0m\u001b[0;34m\u001b[0m\u001b[0m\n\u001b[1;32m    853\u001b[0m             \u001b[0mself\u001b[0m\u001b[0;34m.\u001b[0m\u001b[0m_parent_header\u001b[0m\u001b[0;34m,\u001b[0m\u001b[0;34m\u001b[0m\u001b[0;34m\u001b[0m\u001b[0m\n",
            "\u001b[0;32m/usr/local/lib/python3.10/dist-packages/ipykernel/kernelbase.py\u001b[0m in \u001b[0;36m_input_request\u001b[0;34m(self, prompt, ident, parent, password)\u001b[0m\n\u001b[1;32m    893\u001b[0m             \u001b[0;32mexcept\u001b[0m \u001b[0mKeyboardInterrupt\u001b[0m\u001b[0;34m:\u001b[0m\u001b[0;34m\u001b[0m\u001b[0;34m\u001b[0m\u001b[0m\n\u001b[1;32m    894\u001b[0m                 \u001b[0;31m# re-raise KeyboardInterrupt, to truncate traceback\u001b[0m\u001b[0;34m\u001b[0m\u001b[0;34m\u001b[0m\u001b[0m\n\u001b[0;32m--> 895\u001b[0;31m                 \u001b[0;32mraise\u001b[0m \u001b[0mKeyboardInterrupt\u001b[0m\u001b[0;34m(\u001b[0m\u001b[0;34m\"Interrupted by user\"\u001b[0m\u001b[0;34m)\u001b[0m \u001b[0;32mfrom\u001b[0m \u001b[0;32mNone\u001b[0m\u001b[0;34m\u001b[0m\u001b[0;34m\u001b[0m\u001b[0m\n\u001b[0m\u001b[1;32m    896\u001b[0m             \u001b[0;32mexcept\u001b[0m \u001b[0mException\u001b[0m \u001b[0;32mas\u001b[0m \u001b[0me\u001b[0m\u001b[0;34m:\u001b[0m\u001b[0;34m\u001b[0m\u001b[0;34m\u001b[0m\u001b[0m\n\u001b[1;32m    897\u001b[0m                 \u001b[0mself\u001b[0m\u001b[0;34m.\u001b[0m\u001b[0mlog\u001b[0m\u001b[0;34m.\u001b[0m\u001b[0mwarning\u001b[0m\u001b[0;34m(\u001b[0m\u001b[0;34m\"Invalid Message:\"\u001b[0m\u001b[0;34m,\u001b[0m \u001b[0mexc_info\u001b[0m\u001b[0;34m=\u001b[0m\u001b[0;32mTrue\u001b[0m\u001b[0;34m)\u001b[0m\u001b[0;34m\u001b[0m\u001b[0;34m\u001b[0m\u001b[0m\n",
            "\u001b[0;31mKeyboardInterrupt\u001b[0m: Interrupted by user"
          ]
        }
      ]
    }
  ]
}