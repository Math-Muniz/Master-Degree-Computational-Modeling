{
  "cells": [
    {
      "cell_type": "markdown",
      "metadata": {
        "id": "ZpESiK_OfMsf"
      },
      "source": [
        "# Universidade Federal de Juiz de Fora\n",
        "\n",
        "## Professor: Jairo Francisco de Souza\n",
        "\n",
        "## Matéria: Tópicos Especiais em Aplicações da Computação\n",
        "\n",
        "### Aluno: Matheus Muniz Damasco\n"
      ]
    },
    {
      "cell_type": "markdown",
      "metadata": {
        "id": "yBBDxzl0fOTB"
      },
      "source": [
        "# Trabalho:\n",
        "\n",
        "Procure 2 artigos que utilizem árvores de dependência para apoiar algum tipo de aplicação. Faça um resumo de uma página por artigo demonstrando como a árvore ajuda na aplicação.\n",
        "\n",
        "**Importante:** não é necessário resumir todo o artigo. Nos interessa apenas como a árvore de dependência é usada, então seja especifico e detalhado. Ainda, não nos interessa artigos que descrevem algoritmos para geração de árvores. O foco está no uso da árvore de dependência para atingir algum objetivo da aplicação."
      ]
    },
    {
      "cell_type": "markdown",
      "metadata": {
        "id": "yQSPmaPofMWs"
      },
      "source": [
        "# Artigo 1: [Um filtro para arcos em Árvores de Dependência](https://www.dbd.puc-rio.br/pergamum/tesesabertas/1612864_2018_completo.pdf)\n",
        "\n"
      ]
    },
    {
      "cell_type": "markdown",
      "metadata": {
        "id": "wBJmKn7LIquO"
      },
      "source": [
        "O Artigo selecionado tem como o seu objetivo principal a construção de um filtro de arestas responsável por reduzir o contradomínio no problema de predição de árvores de dependência em abordagens baseadas em tokens. O filtro é capaz de, dado informações sobre a classse gramatical da palavra e de seu head, dizer com alta acurácia a distãncia entre duas palavras que possuem uma relação de dependência.\n",
        "\n",
        "No artigo a forma de encarar o problema de Dependency Parsing foi usando o método de Token-Based aonde ao invés do parsing ser feito através de transições ou grafos, o modelo classifica cada palavra de uma sentença de forma a identificar o seu head, ou seja, a outra palavra da frase, com a qual a palavra em questão possui uma relação de dependência. Após isso, a tarefa é então tratada como um problema de classificação de tokens. Uma classe é atribuída para cada palavra de uma sentença e o objetivo do modelo é classificar corretamente cada palavra.\n",
        "\n",
        "Essas classes podem ser baseadas em vários aspectos da linguagem e devem ser escolhidas de acordo com a natureza do problema a ser resolvido e é essencial que elas sejam selecionadas de forma a melhor retratar um problema. Para tarefas mais simples como Part-Of-Speech Tagging, basta que elas sejam a classe gramatical da palavra. No entanto, para representarmos árvores de dependência, é essencial que tais classes sejam capazes de caracterizar uma estrutura de dependência.\n",
        "\n",
        "Uma das formas de representarmos árvores de dependência é dar para cada palavra uma classe capaz de indicar o seu head. Sendo assim, a junção do token e de sua classe são suficientes para formarmos uma relação de dependência. Tendo escolhido a melhor forma de representar as classes, o resto é um simples problema de classificação de tokens.\n",
        "\n",
        "Não é necessário muita informação para referenciarmos ao head de cada palavra. Frases como 'primeiro substantivo para a direita' ou 'segunda preposição para a esquerda' possuem todas as informações necessárias, dado que se saiba a classe gramatical de cada palavra. Essas sentenças podem ser codificadas em classes através da concatenação de três informações, sendo esses um contador de distância, a classe gramatical do head e uma direção. Para os dois exemplos dados, teríamos então 1_substantivo_direita e 2_preposição_esquerda.\n",
        "\n",
        "No artigo foi constuido um filtro de arestas para a tarefa de dependency parsing utilizando uma abordagem basada em tokens através de redes Long Short Term Memory Bidirecionais. No domínio deste artigo, a tarefa de dependency parsing é tratada como um problema de aprendizagem supervisionada utilizando dados estruturados. O foco desta tarefa foi encontrar, para cada token de uma sentença, a tag capaz de identificar o seu head. Através de uma sequência de entrada composta pelo PoS da palavra junto com PoS e a orientação de seu head, nosso modelo prediz uma das 25 possíveis distâncias que a palavra com a qual ela possui uma relação de dependência pode estar. Esse filtro de arcos pode ser utilizado em conjunto com outros preditores parciais desenvolvidos por diferentes linhas de pesquisa de forma a melhorar um preditor final.\n",
        "\n"
      ]
    },
    {
      "cell_type": "markdown",
      "metadata": {
        "id": "BfZahjw4TCq0"
      },
      "source": [
        "# Artigo 2: [Data Augmentation via Dependency Tree Morphing for Low-Resource Languages](https://arxiv.org/pdf/1903.09460)\n",
        "\n"
      ]
    },
    {
      "cell_type": "markdown",
      "metadata": {
        "id": "_uZ6513kWLBP"
      },
      "source": [
        "O artigo propõe uma técnica de aumento de dados que utiliza árvores de dependência para expandir conjuntos de treinamento em linguagens com poucos recursos, melhorando a performance de modelos de Processamento de Linguagem Natural (NLP), especialmente em tarefas de etiquetagem gramatical (POS tagging). Para isso, o artigo aplica duas operações principais sobre as árvores de dependência: crop (recorte) e rotate (rotação).\n",
        "\n",
        "Operação de Recorte (Crop): Utilizando a árvore de dependência para identificar elementos principais de uma sentença, como sujeito, verbo e objetos, essa técnica cria novas frases menores e focadas, removendo partes não essenciais sem comprometer a estrutura gramatical. Por exemplo, na frase \"Seu pai escreveu uma carta para ela\", é possível gerar sentenças reduzidas que mantêm a relação do sujeito com o verbo ou do verbo com o objeto direto, como \"Seu pai escreveu\" ou \"Escreveu uma carta\". Isso é feito preservando as ligações de dependência indicadas pela árvore.\n",
        "\n",
        "Operação de Rotação (Rotate): A rotação permite reorganizar fragmentos da árvore de dependência ao redor da raiz (verbo principal), especialmente em línguas com ordem de palavras mais flexível. Com a árvore, o modelo pode trocar a ordem de termos como sujeito, objeto e adjuntos, criando sentenças sintaticamente válidas e ampliando a variabilidade no treinamento. Essa técnica foi ilustrada no artigo, onde variações da frase base mantêm a relação entre os componentes, mas mudam a ordem, como \"Uma carta escreveu seu pai\" ou \"Escreveu seu pai uma carta\".\n",
        "\n",
        "Essas operações, apoiadas pela estrutura das árvores de dependência, aumentam a diversidade do conjunto de dados de maneira controlada, mantendo as relações sintáticas essenciais e permitindo que modelos de PLN generalizem melhor em linguagens com poucos dados. Os resultados mostram melhorias significativas na precisão para a maioria das linguagens testadas, especialmente as com sistemas de marcação de caso ricos, como Uralicas e Bálticas.\n",
        "\n",
        "Em conclusão, a árvore de dependência atua como ferramenta-chave para transformar dados linguísticos e gerar novas instâncias de forma gramaticalmente correta, fortalecendo o treinamento de modelos de PLN em linguagens de baixo recurso."
      ]
    }
  ],
  "metadata": {
    "colab": {
      "provenance": []
    },
    "kernelspec": {
      "display_name": "Python 3",
      "name": "python3"
    },
    "language_info": {
      "name": "python"
    }
  },
  "nbformat": 4,
  "nbformat_minor": 0
}
