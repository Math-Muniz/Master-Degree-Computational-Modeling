{
  "nbformat": 4,
  "nbformat_minor": 0,
  "metadata": {
    "colab": {
      "provenance": []
    },
    "kernelspec": {
      "name": "python3",
      "display_name": "Python 3"
    },
    "language_info": {
      "name": "python"
    }
  },
  "cells": [
    {
      "cell_type": "markdown",
      "source": [
        "# Universidade Federal de Juiz de Fora\n",
        "\n",
        "## Aluno: Matheus Muniz Damasco\n",
        "\n",
        "## Professor: Jairo Francisco de Souza\n",
        "\n",
        "## Matéria: Tópicos Especiais em Aplicações da Computação"
      ],
      "metadata": {
        "id": "2Yczy3xGAl0B"
      }
    },
    {
      "cell_type": "markdown",
      "source": [
        "# Definição do Projeto Final\n"
      ],
      "metadata": {
        "id": "nIp_j2jFAV8U"
      }
    },
    {
      "cell_type": "markdown",
      "source": [
        "## Base:\n",
        "* Enviar sua proposta de trabalho final de disciplina. O trabalho deve:\n",
        "1. estar dentro do escopo da disciplina\n",
        "2. preferencialmente estar relacionado com seu trabalho de mestrado/doutorado\n",
        "3. fazer uso de método experimental, podendo envolver ou não o desenvolvimento de um protótipo\n",
        "4. apresentar uma pergunta de pesquisa nova\n",
        "\n",
        "* Para essa entrega, o texto deve ser dividido entre:\n",
        "1. motivação\n",
        "2. problema\n",
        "3. hipótese\n",
        "4. objetivo\n",
        "5. dados que irá usar\n",
        "6. dois artigos que pode usar como base\n",
        "7. resultados esperados (contribuição)"
      ],
      "metadata": {
        "id": "hQ32j-cGBlfU"
      }
    },
    {
      "cell_type": "markdown",
      "source": [
        "# Motivação:\n",
        "\n",
        "Na sociedade, tem-se observado uma crescente prevalência de transtornos mentais que afetam um número significativo de indivíduos, desde crianças até adultos. Como resultado, há uma necessidade urgente de intervenções inovadoras e acessíveis. De acordo com a Organização Mundial da Saúde, cerca de 970 milhões de pessoas são afetadas por condições de saúde mental, sendo a ansiedade e a depressão as mais comuns. Esse número impressionante representa um grande desafio para a saúde e afeta a produtividade econômica e a qualidade de vida em geral. Os transtornos mentais não estão apenas associados a custos significativos para o sistema de saúde, mas também levam a perdas substanciais de produtividade, aumentando ainda mais o ônus para a sociedade. Além disso, pessoas com problemas de saúde mental têm uma expectativa de vida reduzida em cerca de 10 a 20 anos. Devido aos graves efeitos colaterais dos transtornos mentais, é necessário encontrar uma solução para ajudar a aliviar as pressões enfrentadas pelos indivíduos o mais rápido possível.\n",
        "\n",
        "Em paralelo ao rápido aumento dos problemas de saúde mental, a inteligência artificial (IA) ganhou um impulso significativo, com a GenAI se tornando mais comumente utilizada. Com esse crescimento paralelo de questões de saúde mental e GenAI, combinar e aproveitar modelos de linguagem grande (LLMs) para aconselhamento em saúde mental pode proporcionar uma solução transformadora para enfrentar tais desafios. Ao aproveitar o poder dos LLMs, projetos como este têm o objetivo de desenvolver um prototipo que possaa oferecer suporte e seja empático, para poder ajudar indivíduos que enfrentam problemas de saúde mental."
      ],
      "metadata": {
        "id": "rIQGwsF8BAn0"
      }
    },
    {
      "cell_type": "markdown",
      "source": [
        "# Problema:\n",
        "\n",
        "* Embora modelos de linguagem como Gemma, LLAMA e BioBERT apresentem capacidade de compreender e gerar respostas baseadas em linguagem natural, ainda não está claro como alinhar essas arquiteturas para comportamentos empáticos em cenários psicológicos. A empatia é um componente subjetivo e complexo que exige o equilíbrio entre compreensão emocional e respostas adequadas ao contexto."
      ],
      "metadata": {
        "id": "FGpHWufMBDre"
      }
    },
    {
      "cell_type": "markdown",
      "source": [
        "# Hipótese:\n",
        "\n",
        "* Talvez ao aplicarmos a técnica de Direct Preference Optimization (DPO) a modelos de linguagem como Gemma, LLAMA e BioBERT, podemos melhorar suas respostas a padrões empáticos esperados em interações psicológicas, superando métodos tradicionais de treinamento, tanto em termos de naturalidade quanto de adequação emocional."
      ],
      "metadata": {
        "id": "3ljBL3B9BFqT"
      }
    },
    {
      "cell_type": "markdown",
      "source": [
        "# Objetivo:\n",
        "\n",
        "* Desenvolver um framework para ajustar modelos de linguagem (como Gemma, LLAMA e BioBERT) com foco em empatia, utilizando DPO para:\n",
        "\n",
        "  1. Treinar modelos generalistas e especializados com datasets de interações psicológicas.\n",
        "  2. Avaliar o impacto do DPO na capacidade de gerar respostas empáticas.\n",
        "  3. Comparar modelos ajustados com abordagens padrão, identificando suas vantagens e limitações.\n",
        "  4. Explorar o desempenho entre os modelos generalista (Gemma/LLAMA) e também um modelo especializado (BioBERT) na área médica."
      ],
      "metadata": {
        "id": "DlG9bXPaBIs7"
      }
    },
    {
      "cell_type": "markdown",
      "source": [
        "# Datasets Principais:\n",
        "\n",
        "* [Dataset Alcoolismo/Tabagismo (JP)](https://drive.google.com/drive/u/3/folders/1z3MwfMt_MXBIw-WbKyJpvPiLo85fYnHP)\n",
        "* [Motivational-Interviewing-Dataset](https://github.com/anuradha1992/Motivational-Interviewing-Dataset)\n",
        "* [AnnoMI: A Dataset of Expert-Annotated Counselling Dialogues](https://www.kaggle.com/datasets/rahulbaburaj/annomi?select=dataset.csv)\n",
        "\n",
        "# Datasets Reservas:\n",
        "* [Language and Information Technologies (LIT)](https://lit.eecs.umich.edu/downloads.html#undefined)\n",
        "* [Achei esse Link com diversos Datasets e Papers sobre Saúde Mental.](https://github.com/kharrigian/mental-health-datasets/tree/master)\n"
      ],
      "metadata": {
        "id": "0Z5JtpipBLYf"
      }
    },
    {
      "cell_type": "markdown",
      "source": [
        "# Artigos Base:\n",
        "* [Large language models could change the future of behavioral healthcare: a proposal for responsible development and evaluation](https://www.nature.com/articles/s44184-024-00056-z)\n",
        "* [Conversational Bots for Psychotherapy: A Study of Generative Transformer Models Using Domain-specific Dialogues](https://aclanthology.org/2022.bionlp-1.27.pdf)\n",
        "* [Towards Automated Psychotherapy via Language Modeling](https://arxiv.org/pdf/2104.10661)\n",
        "* [Human-AI Collaboration Enables More Empathic Conversations in Text-based Peer-to-Peer Mental Health Support](https://arxiv.org/pdf/2203.15144)\n",
        "* [Exploring ChatGPT's Empathic Abilities](https://arxiv.org/pdf/2308.03527)\n",
        "* [EMMI - Empathic Multimodal Motivational Interviews Dataset: Analyses and Annotations](https://arxiv.org/pdf/2406.16478)\n",
        "* [Curating a Large-Scale Motivational Interviewing Dataset using PeerSupport Forums](https://aclanthology.org/2022.coling-1.293.pdf)\n",
        "* [Is ChatGPT a Good Sentiment Analyzer? A Preliminary Study](https://aclanthology.org/2022.coling-1.293.pdf)\n",
        "* [Large Language Models in Mental Health Care: a Scoping Review](https://arxiv.org/html/2401.02984v1)\n",
        "* [A Computational Approach to Understanding Empathy Expressed in Text-Based Mental Health Support](https://aclanthology.org/2020.emnlp-main.425.pdf)"
      ],
      "metadata": {
        "id": "rv_8OQ3RBOJA"
      }
    },
    {
      "cell_type": "markdown",
      "source": [
        "# Resultados Esperados (Contribuição):\n",
        "\n",
        "1. Treinamento de um Modelo Empático: Modelos de linguagem capazes de gerar respostas empáticas e adequadas em cenários de interação psicológica.\n",
        "2. Validação do uso de DPO em contextos terapêuticos, estabelecendo uma metodologia replicável.\n",
        "3. Comparação robusta: Resultados que contrastem o desempenho de modelos generalistas (Gemma, LLAMA) e também de modelos especializados (BioBERT)."
      ],
      "metadata": {
        "id": "JS31VDNiBRhY"
      }
    }
  ]
}