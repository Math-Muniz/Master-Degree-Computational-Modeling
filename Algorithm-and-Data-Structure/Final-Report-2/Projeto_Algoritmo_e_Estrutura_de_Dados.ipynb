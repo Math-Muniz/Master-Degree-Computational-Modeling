{
  "nbformat": 4,
  "nbformat_minor": 0,
  "metadata": {
    "colab": {
      "provenance": []
    },
    "kernelspec": {
      "name": "python3",
      "display_name": "Python 3"
    },
    "language_info": {
      "name": "python"
    }
  },
  "cells": [
    {
      "cell_type": "markdown",
      "source": [
        "# Universidade Federal de Juiz de Fora\n",
        "\n",
        "###Matéria: Algoritmo e Estrutura de Dados\n",
        "\n",
        "### Professor: Marcelo Lobosco\n",
        "\n",
        "### Aluno: Matheus Muniz Damasco\n",
        "\n",
        "\n"
      ],
      "metadata": {
        "id": "Ri3DxHzGupIj"
      }
    },
    {
      "cell_type": "markdown",
      "source": [
        "## **Projeto: Fluxo Máximo entre Múltiplas Fontes e Escoadouros**"
      ],
      "metadata": {
        "id": "WzlIJwlWyrR6"
      }
    },
    {
      "cell_type": "markdown",
      "source": [
        "**Objetivo do Trabalho**\n",
        "\n",
        "O objetivo deste trabalho é o de implementar uma versão aprimorada um dos algoritmos de fluxo máximo estudados em sala (Ford-Fulkerson ou DMKM) para lidar com cenários mais complexos, onde há múltiplas fontes e múltiplos escoadouros em um mesmo grafo. Essa modificação amplia a aplicabilidade do algoritmo para problemas reais que frequentemente apresentam diversas origens e destinos de fluxo.\n",
        "\n",
        "**Descrição**\n",
        "\n",
        "O problema do fluxo máximo apresentado em sala assume que existe uma única fonte (origem s) e um único escoadouro (destino t). Neste trabalho peço que vocês realizem a modificação de um dos algoritmos vistos em aula, Ford-Fulkerson ou DMKM, de modo a permitir a existência de múltiplos nós fonte (s1, s2, s3,..., sk) e múltiplos nós escoadouros (t1, t2, t3, ..., tk) em um mesmo grafo. Assim como no problema com única fonte e único escoadouro, o objetivo é determinar o fluxo máximo que pode ser transportado em uma rede de transporte. Esse fluxo máximo representa a quantidade máxima de recursos que podem ser enviados da origem para o destino, respeitando as capacidades das arestas que compõem a rede. A principal dificuldade reside na necessidade de lidar com múltiplas fontes e múltiplos escoadouros, o que exige adaptações nos algoritmos tradicionais de fluxo máximo. A chave está em identificar e gerenciar corretamente os fluxos provenientes de diversas fontes e direcionados para diversos escoadouros, garantindo a consistência e a precisão dos resultados.\n",
        "\n",
        "**Implementação**\n",
        "\n",
        "As informações para a montagem do grafo devem ser lidas a partir de um arquivo em formato texto com a seguinte formatação:\n",
        "\n",
        "*   na primeira linha deve-se informar o número de nós;\n",
        "*   na segunda linha o número de arestas;\n",
        "*   a terceira linha deve informar o número de nós fonte do fluxo, seguido pelos números dos nós, separados por espaços;\n",
        "*   a quarta linha deve informar o número de nós escoadouros, seguido pelos números de nós, separados por espaços;\n",
        "*   a partir da quinta linha, deve-se informar os vértices e suas capacidades na forma: nó de origem, um espaço, nó de destino, um espaço, e capacidade.\n",
        "\n",
        "Exemplo de arquivo de entrada:\n",
        "\n",
        "6\n",
        "\n",
        "8\n",
        "\n",
        "2 1 2\n",
        "\n",
        "2 5 6\n",
        "\n",
        "1 3 5\n",
        "\n",
        "1 4 15\n",
        "\n",
        "2 4 5\n",
        "\n",
        "2 3 5\n",
        "\n",
        "3 4 5\n",
        "\n",
        "3 5 5\n",
        "\n",
        "4 5 5\n",
        "\n",
        "4 6 15\n",
        "\n",
        "Após a computação, o valor do fluxo máximo e o valor que está sendo passado por cada um dos vértices devem ser impressos na saída padrão (monitor).\n",
        "\n",
        "**Observações Finais:**\n",
        "\n",
        "• O trabalho pode ser desenvolvido em qualquer linguagem de programação que suporte a representação de grafos como listas encadeadas.\n",
        "\n",
        "• Os trabalhos podem ser feitos em duplas.\n",
        "\n",
        "• A apresentação do trabalho pode ser feita até o dia 29/05 (agendar a apresentação por e-mail)."
      ],
      "metadata": {
        "id": "IOILKBOerZgu"
      }
    },
    {
      "cell_type": "markdown",
      "source": [
        "## **1.  Introdução: Algoritmos de Fluxo Máximo**\n"
      ],
      "metadata": {
        "id": "eXAfynM5wDXK"
      }
    },
    {
      "cell_type": "markdown",
      "source": [
        "Estes algoritmos objetivam verificar a capacidade máxima de fluxo numa rede a partir de um nó origem (fonte) até um nó destino (sumidouro). Nestes casos, cada arco possui um valor que indica a capacidade máxima de fluxo que pode passar por ele ( limite superior ) e, dependendo da rede, ou do objetivo da análise, poderá haver outro valor que indica o fluxo mínimo (limite inferior) que deve passar pelo arco.\n",
        "\n",
        "Em termos de redes de transporte, os algoritmos de fluxo máximo são importantes para  uma avaliação da sua capacidade em absorver um determinado fluxo de veículos, ou seja, podem servir para uma primeira análise das condições da rede, inclusive para identificar gargalos na mesma.\n",
        "\n",
        "A idéia básica de um algoritmo de fluxo máximo é encontrar “caminhos de aumento de fluxo” de uma origem S para um nó de destino T e alocar nestes caminhos a maior quantidade de fluxo possível, que corresponde a um “fluxo viável”, obedecendo à lei de conservação de fluxo : “em cada nó, todo fluxo que entra é igual ao fluxo que sai”. Um fluxo ( fij ) é viável se satisfaz a relação lij ≤ fij ≤ u ij onde lij e uij representam respectivamente, os limites inferior e superior dos arcos.\n",
        "\n",
        "O primeiro algoritmo se deve a Ford e Fulkerson (1956) e os algoritmos que surgiram posteriormente visavam melhorar o desempenho computacional deste algoritmo. Algumas modificações foram também introduzidas na forma de trabalhar a rede, como foi o caso do algoritmo de Dinic (1970, in Syslo 1983) que introduziu o conceito de redes em camadas e Mallhotra (1978, in Syslo 1983) que introduziu o conceito de potencial de um nó.\n",
        "\n",
        "O algoritmo de Ford Fulkerson (Ford e Fulkerson 1962 ou em Syslo 1983, Jensen 1987, Kennington 1988, Minieka 1990) aplica um processo de rotulação de nós para definir rotas com possibilidade de aumento de fluxo. Inicia-se o processo com um fluxo qualquer de S para T e procura-se um caminho de aumento de fluxo. Se este caminho é encontrado, então enviam-se tantas unidades de fluxo quantas forem possíveis por este caminho. Procura-se então novamente um outro caminho de aumento de fluxo de S para T, assim sucessivamente até que não haja nenhum outro caminho e neste caso o fluxo atual é máximo.\n",
        "\n",
        "Outro algoritmo com características semelhantes ao anterior, chamado algoritmo de máximo aumento de fluxo (Syslo 1983, Minieka 1990, Bazaraa 1990), segue um procedimento básico que consiste no desenvolvimento de uma árvore de caminhos (uma arborescência), ou seja, vários caminhos a partir de uma origem S , ao longo dos quais os fluxos nos arcos podem ser aumentados. Se o destino T está incluído nesta arborescência, então o caminho que inclui T será um caminho de aumento de fluxo, alocando-se nele o máximo de fluxo possível.\n",
        "\n",
        "Após a alocação do fluxo, é construído, como em outros algoritmos, um grafo de aumento de fluxo: um grafo auxiliar onde cada arco é substituído por dois arcos, um arco com a mesma direção porém com capacidade dada pela diferença entre o fluxo e a capacidade do mesmo e outro com direção inversa e com capacidade igual ao fluxocorrente no arco, sempre que um desses valores não seja nulo. Uma nova árvore de caminhos é obtida e, se o nó T não estiver incluído na arborescência, então não existe possibilidade de aumentar o fluxo de S para T. Neste caso se encerra o processo e o fluxo corrente é máximo.\n",
        "\n",
        "O algoritmo de Dinic (in Syslo 1983 ) aplica o conceito de redes em camadas onde não existem cíclos (rede acíclica). O grafo inicial é dividido em níveis de nós, a partir da origem S (que pertence ao nível 1) até o último nível camada ao qual pertence o destino T. A rede estruturada desta forma não apresenta arcos entre os nós de um mesmo nível. O objetivo é encontrar caminhos com um menor número de arcos e começar enviando uma quantidade de fluxo de S para T, procurando saturar os arcos até que não mais existam caminhos de aumento de fluxo até T. Neste ponto a rede é reestruturada, revertendo-se o sentido dos arcos saturados e definindo-se novamente os níveis dos nós. Inicia-se novamente o processo de enviar fluxos saturando arcos e assim sucessivamente até que não se consiga mais restruturar a rede, ou seja, encontrar um caminho de S para T.\n",
        "\n",
        "Posteriormente foi desenvolvido o algoritmo DMKM (Dinic/ Malhotra/Kumar/ Maheshwari ,1978). Trata-se do algoritmo de Dinic ao qual se acrescentou o conceito de potencial do nó (in Syslo 1983). Definida a rede em camadas, verifica-se qual nó possui o menor potencial, ou seja, o menor valor entre a soma da capacidade dos arcos que saem deste nó e a soma da capacidade dos arcos que incidem sobre ele . O fluxo referente ao menor potencial é definido então como o fluxo a ser “puxado” da origem S e o mesmo valor é “empurrado” para o destino T. Este passa a ser o fluxo atual, eliminando desta forma, pelo menos um arco saturado. A eliminação do arco ocorre na redefinição da rede em camadas, já que na mesma só aparecem os arcos cuja os sentidos estão na direção de S para T e quando um arco é totalmente usado (saturado) a seu sentido muda , conforme descrito anteriormante. Na impossibilidade de se encontrar caminhos na rede em camadas a mesma é redefinida e reinicia-se o processo.\n",
        "\n",
        "Nos algoritmos apresentados, pode-se verificar que as modificações introduzidas foram trazendo uma melhora em termos de desempenho computacional. O algoritmo de Ford/Fulkerson apresentava a possibilidade de não convergir para uma solução ótima no pior dos casos. Posteriormente uma modificação introduzida por Edmonds e Karp (1972) fez com que o algoritmo passasse a ter um desempenho computacional de ordem O(nm2), onde n é o número de nós e m o número de arcos da rede. Edmonds e Karp mostraram que se procurarem os caminhos de aumento de fluxo com um número mínimo de arcos, a convergência é garantida e o desempenho melhorado.\n",
        "\n",
        "As modificações introduzidas por Dinic fizeram com que o algoritmo original passasse a ter um desempenho de ordem O(n2m), tornando-o mais simples e mais eficiente, particularmente quando a rede é densa. Posteriormente, a modificação introduzida por Malhotra e outros, fez com o algoritmo passasse a ter um desempenho de ordem O(n3)(Syslo,1983)."
      ],
      "metadata": {
        "id": "Thmt5L1trQiW"
      }
    },
    {
      "cell_type": "markdown",
      "source": [
        "## **2. Bibliotecas**"
      ],
      "metadata": {
        "id": "U7nGNxNLZhwK"
      }
    },
    {
      "cell_type": "code",
      "source": [
        "from collections import deque, defaultdict\n",
        "import copy"
      ],
      "metadata": {
        "id": "qvYnXiNqg56p"
      },
      "execution_count": null,
      "outputs": []
    },
    {
      "cell_type": "markdown",
      "source": [
        "## **3. Leitura do Arquivo de Entrada**"
      ],
      "metadata": {
        "id": "vfK32oVMq6bB"
      }
    },
    {
      "cell_type": "markdown",
      "source": [
        "Como dito na implementação abaixo nós iremos ler um arquivo.txt então  \n",
        "\n",
        "**Implementação**\n",
        "\n",
        "As informações para a montagem do grafo devem ser lidas a partir de um arquivo em formato texto com a seguinte formatação:\n",
        "\n",
        "*   na primeira linha deve-se informar o número de nós;\n",
        "*   na segunda linha o número de arestas;\n",
        "*   a terceira linha deve informar o número de nós fonte do fluxo, seguido pelos números dos nós, separados por espaços;\n",
        "*   a quarta linha deve informar o número de nós escoadouros, seguido pelos números de nós, separados por espaços;\n",
        "*   a partir da quinta linha, deve-se informar os vértices e suas capacidades na forma: nó de origem, um espaço, nó de destino, um espaço, e capacidade.\n",
        "\n",
        "Exemplo de arquivo de entrada:\n",
        "\n",
        "6\n",
        "\n",
        "8\n",
        "\n",
        "2 1 2\n",
        "\n",
        "2 5 6\n",
        "\n",
        "1 3 5\n",
        "\n",
        "1 4 15\n",
        "\n",
        "2 4 5\n",
        "\n",
        "2 3 5\n",
        "\n",
        "3 4 5\n",
        "\n",
        "3 5 5\n",
        "\n",
        "4 5 5\n",
        "\n",
        "4 6 15"
      ],
      "metadata": {
        "id": "050yCmUxkq0o"
      }
    },
    {
      "cell_type": "code",
      "source": [
        "def ler_arquivo(caminho_arquivo):\n",
        "    # Inicializa as variáveis para armazenar as informações do arquivo\n",
        "    num_nos = None\n",
        "    num_arestas = None\n",
        "    fontes = None\n",
        "    escoadouros = None\n",
        "    vertices = []\n",
        "\n",
        "    # Abre o arquivo no modo de leitura\n",
        "    with open(caminho_arquivo, 'r') as arquivo:\n",
        "        # Lê o número de nós na linha 1 e converte para inteiro\n",
        "        num_nos = int(arquivo.readline().strip())\n",
        "        # Lê o número de arestas na linha 2 e converte para inteiro\n",
        "        num_arestas = int(arquivo.readline().strip())\n",
        "        # Lê a linha das fontes, converte para lista de inteiros, ignorando o primeiro elemento (assumindo que é o número de fontes)\n",
        "        fontes = list(map(int, arquivo.readline().strip().split()[1:]))\n",
        "        # Lê a linha dos escoadouros, converte para lista de inteiros, ignorando o primeiro elemento (assumindo que é o número de escoadouros)\n",
        "        escoadouros = list(map(int, arquivo.readline().strip().split()[1:]))\n",
        "        # Lê as linhas restantes, cada uma representando uma aresta com origem, destino e capacidade, e converte para lista de listas de inteiros\n",
        "        for linha in arquivo:\n",
        "            origem, destino, capacidade = map(int, linha.strip().split())\n",
        "            vertices.append([origem, destino, capacidade])\n",
        "\n",
        "    # Retorna o número de nós, número de arestas, listas de fontes, escoadouros e vértices\n",
        "    return num_nos, num_arestas, fontes, escoadouros, vertices\n",
        "\n",
        "# Carregando nosso arquivo:\n",
        "caminho_arquivo = \"/content/Arquivo.txt\"\n",
        "num_nos, num_arestas, fontes, escoadouros, vertices = ler_arquivo(caminho_arquivo)"
      ],
      "metadata": {
        "id": "zQdXQa2plIwA"
      },
      "execution_count": null,
      "outputs": []
    },
    {
      "cell_type": "markdown",
      "source": [
        "**Função de Processamento de Entrada**\n",
        "\n",
        "Esta função tem como objetivo processar os dados de entrada que representam um grafo e construir o grafo necessário, adicionando uma super-fonte e um super-escoadouro para facilitar o cálculo do fluxo máximo.\n",
        "\n",
        "**Problema com Várias Fontes e Escoadouros:**\n",
        "\n",
        "A capacidade dos arcos que ligam a fonte fictícia às fontes reais é igual a capacidade destas fontes quando as mesmas forem centros produtores; o mesmo se define para o destino no caso de serem centros consumidores. Se não houver estes valores então a capacidade destes arcos pode ser considerada como infinita.\n",
        "\n",
        "Decidimos ligar a super_fonte e super_escoadouro com valores infinitos para melhor resolução."
      ],
      "metadata": {
        "id": "6-YEwVV3I3j0"
      }
    },
    {
      "cell_type": "code",
      "source": [
        "def processar_entrada(dados):\n",
        "    linhas = dados.strip().split('\\n')  # Divide os dados em linhas e remove espaços em branco\n",
        "    num_nos = int(linhas[0].strip())  # Extrai o número de nós\n",
        "    num_arestas = int(linhas[1].strip())  # Extrai o número de arestas\n",
        "\n",
        "    fontes = list(map(int, linhas[2].strip().split()[1:]))  # Extrai as fontes e converte para uma lista de inteiros\n",
        "    escoadouros = list(map(int, linhas[3].strip().split()[1:]))  # Extrai os escoadouros e converte para uma lista de inteiros\n",
        "\n",
        "    g = Grafo()  # Cria um objeto da classe Grafo\n",
        "\n",
        "    for i in range(4, 4 + num_arestas):  # Para cada linha representando uma aresta\n",
        "        u, v, capacidade = map(int, linhas[i].strip().split())  # Extrai a origem, destino e capacidade da aresta\n",
        "        g.adicionar_aresta(u, v, capacidade)  # Adiciona a aresta ao grafo\n",
        "\n",
        "    super_fonte = num_nos + 1  # Identificador do super-fonte\n",
        "    super_escoadouro = num_nos + 2  # Identificador do super-escoadouro\n",
        "\n",
        "    for fonte in fontes:  # Para cada fonte\n",
        "        g.adicionar_aresta(super_fonte, fonte, float('Inf'))  # Adiciona uma aresta da super-fonte para a fonte com capacidade infinita\n",
        "\n",
        "    for escoadouro in escoadouros:  # Para cada escoadouro\n",
        "        g.adicionar_aresta(escoadouro, super_escoadouro, float('Inf'))  # Adiciona uma aresta do escoadouro para o super-escoadouro com capacidade infinita\n",
        "\n",
        "    return g, super_fonte, super_escoadouro  # Retorna o grafo, a super-fonte e o super-escoadouro"
      ],
      "metadata": {
        "id": "tqpzOIH8I0Gb"
      },
      "execution_count": null,
      "outputs": []
    },
    {
      "cell_type": "markdown",
      "source": [
        "## **4. Classe Grafo**\n"
      ],
      "metadata": {
        "id": "9UQmWm41kett"
      }
    },
    {
      "cell_type": "markdown",
      "source": [
        "Abaixo iremos criar nossa classe grafo que define a estrutura do grafo e possui métodos para adicionar arestas e salvar suas capacidades além de definir o valor da capacidade das arestas reversas como 0."
      ],
      "metadata": {
        "id": "Un4IkWoDwf_Q"
      }
    },
    {
      "cell_type": "code",
      "source": [
        "class Grafo:  # Define a classe Grafo\n",
        "    def __init__(self):  # Método de inicialização da classe\n",
        "        self.grafo = defaultdict(dict)  # Inicializa um dicionário padrão vazio para representar o grafo\n",
        "\n",
        "    def adicionar_aresta(self, u, v, capacidade):  # Método para adicionar uma aresta ao grafo\n",
        "        if u not in self.grafo or v not in self.grafo[u]:  # Verifica se o nó u ou a aresta (u, v) não estão no grafo\n",
        "            self.grafo[u][v] = 0  # Inicializa a capacidade da aresta (u, v) com zero\n",
        "        self.grafo[u][v] += capacidade  # Adiciona a capacidade à aresta (u, v)\n",
        "        # Inicializa a capacidade da aresta reversa com zero\n",
        "        if v not in self.grafo:  # Verifica se o nó v não está no grafo\n",
        "            self.grafo[v] = {}  # Inicializa um dicionário vazio para o nó v\n",
        "        if u not in self.grafo[v]:  # Verifica se a aresta reversa (v, u) não está no grafo\n",
        "            self.grafo[v][u] = 0  # Inicializa a capacidade da aresta reversa (v, u) com zero"
      ],
      "metadata": {
        "id": "DGFE_zcNlEfT"
      },
      "execution_count": null,
      "outputs": []
    },
    {
      "cell_type": "markdown",
      "source": [
        "## **5. Busca em Largura (Breadth-First Search - BFS)**"
      ],
      "metadata": {
        "id": "1WE0DRX-lbXx"
      }
    },
    {
      "cell_type": "markdown",
      "source": [
        "Breadth-First Search (BFS) é um algoritmo de travessia de grafos que explora todos os vértices em um grafo na profundidade atual antes de passar para os vértices no próximo nível de profundidade. Ele começa em um vértice especificado e visita todos os seus vizinhos antes de passar para o próximo nível de vizinhos. BFS é comumente usado em algoritmos para pathfinding, componentes conectados e problemas de caminho mais curto em gráficos.\n",
        "\n",
        "O único problema é que grafos podem conter ciclos, então podemos chegar ao mesmo nó novamente. Para evitar processar um nó mais de uma vez, dividimos os vértices em duas categorias:\n",
        "* Visitado\n",
        "* Não visitado\n",
        "\n",
        "Vamos discutir sobre o algoritmo para o BFS:\n",
        "\n",
        "1. **Inicialização:** coloque o nó inicial em uma fila e marque-o como visitado.\n",
        "2. **Exploração:** Enquanto a fila não estiver vazia:\n",
        "  * Retire um nó da fila e visite-o (por exemplo, imprima seu valor).\n",
        "  * Para cada vizinho não visitado do nó retirado da fila:\n",
        "    * Enfileirar o vizinho na fila.\n",
        "    * Marque o vizinho como visitado.\n",
        "\n",
        "3. **Rescisão:** Repita a etapa 2 até que a fila esteja vazia.\n",
        "\n",
        "Este algoritmo garante que todos os nós do grafo sejam visitados em largura, começando pelo nó inicial."
      ],
      "metadata": {
        "id": "mhR5PMCjwX6j"
      }
    },
    {
      "cell_type": "code",
      "source": [
        "def encontrar_caminho_bloqueante(self, origem, destino):\n",
        "      visitados = {origem}  # Cria um conjunto com o nó de origem, marcando-o como visitado\n",
        "      fila = deque([(origem, [origem])])  # Cria uma fila com uma tupla contendo o nó de origem e uma lista contendo apenas o nó de origem\n",
        "      camada = {origem: 0}  # Cria um dicionário para manter o controle das camadas dos nós, iniciando com a camada do nó de origem como 0\n",
        "      while fila:  # Enquanto a fila não estiver vazia\n",
        "          u, caminho = fila.popleft()  # Retira o primeiro elemento da fila\n",
        "          for v in self.grafo[u]:  # Para cada nó adjacente a u\n",
        "              if v not in visitados and self.grafo[u][v] > 0:  # Se o nó não foi visitado e a capacidade da aresta é maior que zero\n",
        "                  visitados.add(v)  # Marca o nó como visitado\n",
        "                  camada[v] = camada[u] + 1  # Define a camada do nó v como a camada do nó u + 1\n",
        "                  if v == destino:  # Se o nó v for o destino\n",
        "                      return caminho + [v]  # Retorna o caminho encontrado\n",
        "                  fila.append((v, caminho + [v]))  # Adiciona o nó v à fila juntamente com o caminho até ele\n",
        "      return None  # Retorna None se não houver caminho bloqueante"
      ],
      "metadata": {
        "id": "fUXTuVnGlcf5"
      },
      "execution_count": null,
      "outputs": []
    },
    {
      "cell_type": "markdown",
      "source": [
        "**enviar_fluxo**\n",
        "\n",
        "O método enviar_fluxo ajusta as capacidades no grafo residual com base no fluxo máximo possível encontrado pelo caminho determinado pela BFS, permitindo a continuação do algoritmo de fluxo máximo até que não haja mais caminhos possíveis."
      ],
      "metadata": {
        "id": "75Ib4ajZ3ril"
      }
    },
    {
      "cell_type": "code",
      "source": [
        "def enviar_fluxo(self, caminho):\n",
        "        fluxo = min(self.grafo[u][v] for u, v in zip(caminho, caminho[1:]))  # Calcula o fluxo mínimo ao longo do caminho\n",
        "        for u, v in zip(caminho, caminho[1:]):  # Para cada aresta no caminho\n",
        "            self.grafo[u][v] -= fluxo  # Reduz a capacidade da aresta\n",
        "            self.grafo[v][u] += fluxo  # Incrementa a capacidade da aresta reversa\n",
        "        return fluxo  # Retorna o fluxo enviado"
      ],
      "metadata": {
        "id": "D5gsgmzy3stE"
      },
      "execution_count": null,
      "outputs": []
    },
    {
      "cell_type": "markdown",
      "source": [
        "## **6. Algoritmo de Dinic/Malhotra/Kumar/Maheshwari**\n"
      ],
      "metadata": {
        "id": "aCQ2SaA9lEKS"
      }
    },
    {
      "cell_type": "markdown",
      "source": [
        "Em 1978, Malhotra, Kumar e Maheshwari propuseram um algoritmo para resolver o subproblema de Dinic, independente dos algoritmos de Karzanov, Cherkasky e Galil. O tempo necessário para executar este algoritmo é o mesmo obtido por Karzanov, porém o algoritmo é muito mais simples. Definida a rede em camadas verifica-se qual nó possui o menor potencial. O potencial de um nó é definido como o menor valor entre a soma da capacidade dos arcos que saem deste nó e a soma da capacidade dos arcos que incidem sobre este nó. O fluxo referente ao menor potencial é definido então como o fluxo a ser \"puxado\" da origem $s$ e o mesmo valor é \"empurrado\" para o destino $t$, e este passa a ser o fluxo corrente. Desta forma, elimina-se pelo menos um arco saturado, redefinindo-se a rede em camadas e dando início novamente o processo.\n",
        "\n",
        "**Definição:**\n",
        "\n",
        "Seja $R = (G, s, t, c)$ uma rede e $f$ um fluxo em $R$. Para cada vértice $v$, definimos o fluxo potencial de $v$, $pf(v)$, da seguinte maneira:\n",
        "\n",
        "\\begin{equation}\n",
        "pf(v) = \\min\\left\\{\\sum_{(v,w)\\in A}(c(v,w) - f(v,w)), \\sum_{(w,v)\\in A}(c(w,v) - f(w,v))\\right\\} \\quad (v \\in V - \\{s,t\\}),\n",
        "\\end{equation}\n",
        "\n",
        "\\begin{equation}\n",
        "pf(s) = \\sum_{(s,w)\\in A}(c(s,w) - f(s,w))\n",
        "\\end{equation}\n",
        "\n",
        "\\begin{equation}\n",
        "pf(t) = \\sum_{(w,t)\\in A}(c(w,t) - f(w,t))\n",
        "\\end{equation}\n",
        "\n",
        "**Lema:**\n",
        "\n",
        "Seja $v$ um vértice tal que $pf(v) = \\min \\{pf(w)| w \\in V\\}$. Então existe um fluxo $f'$ tal que $valor(f') = valor(f) + pf(v)$.\n",
        "\n",
        "**Prova:**\n",
        "\n",
        "Pela forma como foi definido $pf(v)$, é fácil ver que podemos aumentar o fluxo nas arestas que estão entrando (saindo) de $v$ de modo que a soma destes aumentos seja igual a $pf(v)$, sem desobedecer às restrições de capacidade. Desta forma, se $v$ está na camada $V(i)$, após ter incrementado $f$, os vértices que estão com excesso positivo estão em $V(i+1)$, e aqueles com excesso negativo estão em $V(i-1)$. Note que, para cada $j > i$, podemos balancear os vértices de $V(j)$ com excesso positivo, passando seu excesso para a camada $V(j+1)$, desde que o excesso seja inferior ao seu potencial de fluxo. Mas isto sempre ocorre devido à forma como $v$ foi escolhido. Indutivamente, podemos ir balanceando os vértices de todas as camadas superiores a $V(i)$ até chegar a $V(k) = \\{t\\}$. De forma análoga, podemos ir balanceando todos os vértices com excesso negativo até chegar a $V(0) = \\{s\\}$. Assim, após balancear todas as camadas, obtemos um fluxo igual a $valor(f) + pf(v)$.\n",
        "\n",
        "A demonstração do lema sugere um algoritmo para o subproblema de Dinic.\n",
        "\n",
        "Função DMKM(grafo induzido G; capacidade c):\n",
        "\n",
        "fluxo $f$;\n",
        "\n",
        "vértice $v$, $w$;\n",
        "\n",
        "- $f = 0$;\n",
        "\n",
        "Enquanto $\\nexists$ $V(i) = \\emptyset$ faça:\n",
        "- Selecione $v \\in V$ tal que $pf(v) = \\min\\{pf(v)|v \\in V\\}$;\n",
        "- Incremente $f$ da maneira sugerida na demonstração do lema;\n",
        "- Remova as arestas saturadas e os vértices que ficaram isolados;\n",
        "- Atualize $pf$ e remover todos os vértices $w$ com $pf(w) = 0$;\n",
        "- Retorne $f$.\n",
        "\n",
        "\n",
        "Cada iteração da função DMKM necessita de $O(n+m(i))$ tempo, onde $m(i)$ é o número de arestas removidas na iteração $i$. Como são necessárias no máximo $n$ iterações, o tempo total requerido pela função é $O(n^2 + m) = O(n^2)$. Assim, o algoritmo de Malhotra, Kumar e Maheshwari para encontrar um fluxo máximo tem complexidade $O(n^3)$."
      ],
      "metadata": {
        "id": "VPrKZqfIwFxo"
      }
    },
    {
      "cell_type": "code",
      "source": [
        "def dmkm_fluxo_maximo(self, origem, destino):\n",
        "  fluxo_total = 0  # Inicializa o fluxo total como zero\n",
        "  while True:  # Loop infinito\n",
        "      caminho_bloqueante = self.encontrar_caminho_bloqueante(origem, destino)  # Encontra um caminho bloqueante no grafo\n",
        "      if caminho_bloqueante is None:  # Se não há caminho bloqueante\n",
        "          break  # Sai do loop\n",
        "      fluxo = self.enviar_fluxo(caminho_bloqueante)  # Envia fluxo ao longo do caminho bloqueante\n",
        "      fluxo_total += fluxo  # Incrementa o fluxo total\n",
        "  return fluxo_total  # Retorna o fluxo máximo"
      ],
      "metadata": {
        "id": "665yBBxAlkaA"
      },
      "execution_count": null,
      "outputs": []
    },
    {
      "cell_type": "markdown",
      "source": [
        "## **7. Funções Auxiliares e Execução**"
      ],
      "metadata": {
        "id": "QrbozL6d5X_i"
      }
    },
    {
      "cell_type": "markdown",
      "source": [
        "**Função para Imprimir Fluxos**\n",
        "\n",
        "Esta função imprime o fluxo que passou por cada aresta do grafo original após a execução do algoritmo de fluxo máximo. Para cada aresta do grafo original, ela mostra a capacidade original e o fluxo efetivo através dessa aresta."
      ],
      "metadata": {
        "id": "rB0JAHRIloQX"
      }
    },
    {
      "cell_type": "code",
      "source": [
        "def imprimir_fluxos(grafo, grafo_original):\n",
        "    print(\"Fluxo nas arestas:\")  # Imprime o título\n",
        "    for u in grafo_original:  # Para cada nó no grafo original\n",
        "        for v in grafo_original[u]:  # Para cada nó adjacente ao nó u no grafo original\n",
        "            if grafo_original[u][v] > 0:  # Se a capacidade da aresta no grafo original for maior que zero (aresta original)\n",
        "                if u in grafo and v in grafo[u]:  # Se a aresta estiver no grafo e tiver capacidade\n",
        "                    fluxo = grafo_original[u][v] - grafo[u][v]  # Calcula o fluxo\n",
        "                else:\n",
        "                    fluxo = grafo_original[u][v]  # Caso contrário, o fluxo é igual à capacidade original da aresta\n",
        "                if grafo_original[u][v] == float('inf'):  # Se a capacidade original for infinita\n",
        "                    print(f\"{u} -> {v}: inf / inf\")  # Imprime a capacidade original e o fluxo como infinito\n",
        "                else:  # Caso contrário\n",
        "                    print(f\"{u} -> {v}: {fluxo} / {grafo_original[u][v]}\")  # Imprime o fluxo e a capacidade original"
      ],
      "metadata": {
        "id": "vjv_LpdOlooW"
      },
      "execution_count": null,
      "outputs": []
    },
    {
      "cell_type": "markdown",
      "source": [
        "**Execução do Código**\n",
        "\n",
        "Nesta seção, os dados são lidos, o grafo é construído, o fluxo máximo é calculado, e os resultados são impressos."
      ],
      "metadata": {
        "id": "vmbd8RiS5LMa"
      }
    },
    {
      "cell_type": "code",
      "source": [
        "# Carregando nosso arquivo:\n",
        "caminho_arquivo = \"/content/Arquivo.txt\"\n",
        "num_nos, num_arestas, fontes, escoadouros, vertices = ler_arquivo(caminho_arquivo)\n",
        "\n",
        "# Constrói o grafo com as informações lidas do arquivo\n",
        "g = Grafo()\n",
        "for origem, destino, capacidade in vertices:\n",
        "    g.adicionar_aresta(origem, destino, capacidade)\n",
        "\n",
        "# Adiciona um super-fonte e super-escoadouro\n",
        "super_fonte = num_nos + 1\n",
        "super_escoadouro = num_nos + 2\n",
        "\n",
        "for fonte in fontes:\n",
        "    g.adicionar_aresta(super_fonte, fonte, float('Inf'))\n",
        "for escoadouro in escoadouros:\n",
        "    g.adicionar_aresta(escoadouro, super_escoadouro, float('Inf'))\n",
        "\n",
        "# Faz uma cópia profunda do grafo original para referência\n",
        "grafo_original = copy.deepcopy(g.grafo)\n",
        "\n",
        "# Calcula o fluxo máximo\n",
        "fluxo_maximo = g.dmkm_fluxo_maximo(super_fonte, super_escoadouro)\n",
        "print(f\"O fluxo máximo é: {fluxo_maximo}\")\n",
        "\n",
        "# Imprime o fluxo nas arestas\n",
        "imprimir_fluxos(g.grafo, grafo_original)"
      ],
      "metadata": {
        "id": "--BMbglG4nzs"
      },
      "execution_count": null,
      "outputs": []
    },
    {
      "cell_type": "markdown",
      "source": [
        "## **8. Algoritmo Completo para Executar**\n",
        "\n",
        "Esse capitulo contém o algoritmo criado acima para sua execução."
      ],
      "metadata": {
        "id": "_sEQEzkZ0JOE"
      }
    },
    {
      "cell_type": "code",
      "source": [
        "from collections import deque, defaultdict\n",
        "import copy\n",
        "\n",
        "def ler_arquivo(caminho_arquivo):\n",
        "    # Inicializa as variáveis para armazenar as informações do arquivo\n",
        "    num_nos = None\n",
        "    num_arestas = None\n",
        "    fontes = None\n",
        "    escoadouros = None\n",
        "    vertices = []\n",
        "\n",
        "    # Abre o arquivo no modo de leitura\n",
        "    with open(caminho_arquivo, 'r') as arquivo:\n",
        "        # Lê o número de nós na linha 1 e converte para inteiro\n",
        "        num_nos = int(arquivo.readline().strip())\n",
        "        # Lê o número de arestas na linha 2 e converte para inteiro\n",
        "        num_arestas = int(arquivo.readline().strip())\n",
        "        # Lê a linha das fontes, converte para lista de inteiros, ignorando o primeiro elemento (assumindo que é o número de fontes)\n",
        "        fontes = list(map(int, arquivo.readline().strip().split()[1:]))\n",
        "        # Lê a linha dos escoadouros, converte para lista de inteiros, ignorando o primeiro elemento (assumindo que é o número de escoadouros)\n",
        "        escoadouros = list(map(int, arquivo.readline().strip().split()[1:]))\n",
        "        # Lê as linhas restantes, cada uma representando uma aresta com origem, destino e capacidade, e converte para lista de listas de inteiros\n",
        "        for linha in arquivo:\n",
        "            origem, destino, capacidade = map(int, linha.strip().split())\n",
        "            vertices.append([origem, destino, capacidade])\n",
        "\n",
        "    # Retorna o número de nós, número de arestas, listas de fontes, escoadouros e vértices\n",
        "    return num_nos, num_arestas, fontes, escoadouros, vertices\n",
        "\n",
        "# Carregando nosso arquivo:\n",
        "caminho_arquivo = \"/content/Arquivo3.txt\"\n",
        "num_nos, num_arestas, fontes, escoadouros, vertices = ler_arquivo(caminho_arquivo)\n",
        "\n",
        "class Grafo:  # Define a classe Grafo\n",
        "    def __init__(self):  # Método de inicialização da classe\n",
        "        self.grafo = defaultdict(dict)  # Inicializa um dicionário padrão vazio para representar o grafo\n",
        "\n",
        "    def adicionar_aresta(self, u, v, capacidade):  # Método para adicionar uma aresta ao grafo\n",
        "        if u not in self.grafo or v not in self.grafo[u]:  # Verifica se o nó u ou a aresta (u, v) não estão no grafo\n",
        "            self.grafo[u][v] = 0  # Inicializa a capacidade da aresta (u, v) com zero\n",
        "        self.grafo[u][v] += capacidade  # Adiciona a capacidade à aresta (u, v)\n",
        "        # Inicializa a capacidade da aresta reversa com zero\n",
        "        if v not in self.grafo:  # Verifica se o nó v não está no grafo\n",
        "            self.grafo[v] = {}  # Inicializa um dicionário vazio para o nó v\n",
        "        if u not in self.grafo[v]:  # Verifica se a aresta reversa (v, u) não está no grafo\n",
        "            self.grafo[v][u] = 0  # Inicializa a capacidade da aresta reversa (v, u) com zero\n",
        "\n",
        "    def encontrar_caminho_bloqueante(self, origem, destino):\n",
        "      visitados = {origem}  # Cria um conjunto com o nó de origem, marcando-o como visitado\n",
        "      fila = deque([(origem, [origem])])  # Cria uma fila com uma tupla contendo o nó de origem e uma lista contendo apenas o nó de origem\n",
        "      camada = {origem: 0}  # Cria um dicionário para manter o controle das camadas dos nós, iniciando com a camada do nó de origem como 0\n",
        "      while fila:  # Enquanto a fila não estiver vazia\n",
        "          u, caminho = fila.popleft()  # Retira o primeiro elemento da fila\n",
        "          for v in self.grafo[u]:  # Para cada nó adjacente a u\n",
        "              if v not in visitados and self.grafo[u][v] > 0:  # Se o nó não foi visitado e a capacidade da aresta é maior que zero\n",
        "                  visitados.add(v)  # Marca o nó como visitado\n",
        "                  camada[v] = camada[u] + 1  # Define a camada do nó v como a camada do nó u + 1\n",
        "                  if v == destino:  # Se o nó v for o destino\n",
        "                      return caminho + [v]  # Retorna o caminho encontrado\n",
        "                  fila.append((v, caminho + [v]))  # Adiciona o nó v à fila juntamente com o caminho até ele\n",
        "      return None  # Retorna None se não houver caminho bloqueante\n",
        "\n",
        "    def enviar_fluxo(self, caminho):\n",
        "        fluxo = min(self.grafo[u][v] for u, v in zip(caminho, caminho[1:]))  # Calcula o fluxo mínimo ao longo do caminho\n",
        "        for u, v in zip(caminho, caminho[1:]):  # Para cada aresta no caminho\n",
        "            self.grafo[u][v] -= fluxo  # Reduz a capacidade da aresta\n",
        "            self.grafo[v][u] += fluxo  # Incrementa a capacidade da aresta reversa\n",
        "        return fluxo  # Retorna o fluxo enviado\n",
        "\n",
        "    def dmkm_fluxo_maximo(self, origem, destino):\n",
        "      fluxo_total = 0  # Inicializa o fluxo total como zero\n",
        "      while True:  # Loop infinito\n",
        "          caminho_bloqueante = self.encontrar_caminho_bloqueante(origem, destino)  # Encontra um caminho bloqueante no grafo\n",
        "          if caminho_bloqueante is None:  # Se não há caminho bloqueante\n",
        "              break  # Sai do loop\n",
        "          fluxo = self.enviar_fluxo(caminho_bloqueante)  # Envia fluxo ao longo do caminho bloqueante\n",
        "          fluxo_total += fluxo  # Incrementa o fluxo total\n",
        "      return fluxo_total  # Retorna o fluxo máximo\n",
        "\n",
        "def imprimir_fluxos(grafo, grafo_original):\n",
        "    print(\"Fluxo nas arestas:\")  # Imprime o título\n",
        "    for u in grafo_original:  # Para cada nó no grafo original\n",
        "        for v in grafo_original[u]:  # Para cada nó adjacente ao nó u no grafo original\n",
        "            if grafo_original[u][v] > 0:  # Se a capacidade da aresta no grafo original for maior que zero (aresta original)\n",
        "                if u in grafo and v in grafo[u]:  # Se a aresta estiver no grafo e tiver capacidade\n",
        "                    fluxo = grafo_original[u][v] - grafo[u][v]  # Calcula o fluxo\n",
        "                else:\n",
        "                    fluxo = grafo_original[u][v]  # Caso contrário, o fluxo é igual à capacidade original da aresta\n",
        "                if grafo_original[u][v] == float('inf'):  # Se a capacidade original for infinita\n",
        "                    print(f\"{u} -> {v}: inf / inf\")  # Imprime a capacidade original e o fluxo como infinito\n",
        "                else:  # Caso contrário\n",
        "                    print(f\"{u} -> {v}: {fluxo} / {grafo_original[u][v]}\")  # Imprime o fluxo e a capacidade original\n",
        "\n",
        "def processar_entrada(dados):\n",
        "    linhas = dados.strip().split('\\n')  # Divide os dados em linhas e remove espaços em branco\n",
        "    num_nos = int(linhas[0].strip())  # Extrai o número de nós\n",
        "    num_arestas = int(linhas[1].strip())  # Extrai o número de arestas\n",
        "\n",
        "    fontes = list(map(int, linhas[2].strip().split()[1:]))  # Extrai as fontes e converte para uma lista de inteiros\n",
        "    escoadouros = list(map(int, linhas[3].strip().split()[1:]))  # Extrai os escoadouros e converte para uma lista de inteiros\n",
        "\n",
        "    g = Grafo()  # Cria um objeto da classe Grafo\n",
        "\n",
        "    for i in range(4, 4 + num_arestas):  # Para cada linha representando uma aresta\n",
        "        u, v, capacidade = map(int, linhas[i].strip().split())  # Extrai a origem, destino e capacidade da aresta\n",
        "        g.adicionar_aresta(u, v, capacidade)  # Adiciona a aresta ao grafo\n",
        "\n",
        "    super_fonte = num_nos + 1  # Identificador do super-fonte\n",
        "    super_escoadouro = num_nos + 2  # Identificador do super-escoadouro\n",
        "\n",
        "    for fonte in fontes:  # Para cada fonte\n",
        "        g.adicionar_aresta(super_fonte, fonte, float('Inf'))  # Adiciona uma aresta da super-fonte para a fonte com capacidade infinita\n",
        "\n",
        "    for escoadouro in escoadouros:  # Para cada escoadouro\n",
        "        g.adicionar_aresta(escoadouro, super_escoadouro, float('Inf'))  # Adiciona uma aresta do escoadouro para o super-escoadouro com capacidade infinita\n",
        "\n",
        "    return g, super_fonte, super_escoadouro  # Retorna o grafo, a super-fonte e o super-escoadouro\n",
        "\n",
        "\n",
        "# Constrói o grafo com as informações lidas do arquivo\n",
        "g = Grafo()\n",
        "for origem, destino, capacidade in vertices:\n",
        "    g.adicionar_aresta(origem, destino, capacidade)\n",
        "\n",
        "# Adiciona um super-fonte e super-escoadouro\n",
        "super_fonte = num_nos + 1\n",
        "super_escoadouro = num_nos + 2\n",
        "\n",
        "for fonte in fontes:\n",
        "    g.adicionar_aresta(super_fonte, fonte, float('Inf'))\n",
        "for escoadouro in escoadouros:\n",
        "    g.adicionar_aresta(escoadouro, super_escoadouro, float('Inf'))\n",
        "\n",
        "# Faz uma cópia profunda do grafo original para referência\n",
        "grafo_original = copy.deepcopy(g.grafo)\n",
        "\n",
        "# Calcula o fluxo máximo\n",
        "fluxo_maximo = g.dmkm_fluxo_maximo(super_fonte, super_escoadouro)\n",
        "print(f\"O fluxo máximo é: {fluxo_maximo}\")\n",
        "\n",
        "# Imprime o fluxo nas arestas\n",
        "imprimir_fluxos(g.grafo, grafo_original)"
      ],
      "metadata": {
        "colab": {
          "base_uri": "https://localhost:8080/"
        },
        "id": "NyE4rkzkvFyE",
        "outputId": "2ee60d3f-1c10-4c6b-d826-1aeaa44c9cfe"
      },
      "execution_count": null,
      "outputs": [
        {
          "output_type": "stream",
          "name": "stdout",
          "text": [
            "O fluxo máximo é: 19\n",
            "Fluxo nas arestas:\n",
            "1 -> 2: 10 / 10\n",
            "1 -> 3: 9 / 10\n",
            "2 -> 3: 0 / 2\n",
            "2 -> 4: 4 / 4\n",
            "2 -> 5: 6 / 8\n",
            "3 -> 5: 9 / 9\n",
            "4 -> 6: 9 / 10\n",
            "5 -> 4: 5 / 6\n",
            "5 -> 6: 10 / 10\n",
            "6 -> 8: inf / inf\n",
            "7 -> 1: inf / inf\n"
          ]
        }
      ]
    },
    {
      "cell_type": "markdown",
      "source": [
        "## **9. Refêrencias:**"
      ],
      "metadata": {
        "id": "ADokmNRJuZhL"
      }
    },
    {
      "cell_type": "markdown",
      "source": [
        "- Problema com Várias Fontes e Escoadouros:\n",
        "\n",
        "http://aquarius.ime.eb.br/~webde2/prof/vania/apostilas/Apostila-Redes.pdf\n",
        "\n",
        "- BFS:\n",
        "\n",
        "https://www.geeksforgeeks.org/breadth-first-search-or-bfs-for-a-graph/\n",
        "\n",
        "- DFS:\n",
        "\n",
        "https://erinaldosn.wordpress.com/wp-content/uploads/2011/03/aula-5-busca-em-profundidade.pdf\n",
        "\n",
        "https://favtutor.com/blogs/depth-first-search-python\n",
        "\n",
        "- DMKM:\n",
        "\n",
        "https://www.teses.usp.br/teses/disponiveis/45/45132/tde-20210729-003317/publico/DuoRoberto.pdf\n",
        "\n",
        "http://aquarius.ime.eb.br/~webde2/prof/vania/apostilas/Apostila-Redes.pdf"
      ],
      "metadata": {
        "id": "_rwlV3P5wAnk"
      }
    }
  ]
}