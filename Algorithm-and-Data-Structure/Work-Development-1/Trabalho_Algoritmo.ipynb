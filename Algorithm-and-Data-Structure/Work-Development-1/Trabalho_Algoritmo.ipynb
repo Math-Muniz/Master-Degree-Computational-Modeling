{
  "nbformat": 4,
  "nbformat_minor": 0,
  "metadata": {
    "colab": {
      "provenance": [],
      "collapsed_sections": [
        "ALv2ssPoo08A",
        "GvpR8gV60aFr",
        "J94DkMmP1OeN",
        "jPfJR1uF1l_h",
        "uihJ3FcZ1nKs",
        "pT0yi4fc1pHU",
        "CPPlrNH8ARRk",
        "JfDuuRjAKMAp",
        "2vS1To91KN3W",
        "fVa3mO4fKQ-k",
        "w8lxHqiUg2t8",
        "jMCo-SqFg3I1",
        "z1Dfx6kWhTO9",
        "oDziP0EGhUKt",
        "EicG0DZnhUrS",
        "YWelno5ZhVJq",
        "0_2ZFgc2iJ0T",
        "62RiCcTeiKWk",
        "8o6XvG6riLVd",
        "Bx3k-DXYiQEq",
        "Q5gWg660DMsw",
        "u6grCa8YETqf",
        "61BlZNgbEVyM",
        "AXNTbZO-EzeD",
        "wAwBsrHWFerr",
        "1fl7DYbdFivI"
      ]
    },
    "kernelspec": {
      "name": "python3",
      "display_name": "Python 3"
    },
    "language_info": {
      "name": "python"
    }
  },
  "cells": [
    {
      "cell_type": "markdown",
      "source": [
        "# Estudo sobre as Bibliotecas Matemáticas do Python\n",
        "\n",
        "## Criador: Matheus Muniz Damasco\n",
        "\n",
        "## Projeto de Mestrado da Disciplina Algoritmo e Estrutura de Dados\n",
        "\n",
        "Neste projeto vou falar mais sobre as Bibliotecas Matemáticas do Python e sobre o seu uso, vou tentar sempre trazer exemplos de código para facilitar o entendimento sobre então decidi dividir em capitulos, cada capitulo fala sobre uma biblioteca diferente.\n",
        "\n",
        "1. Math\n",
        "2. Numpy\n",
        "3. Scipy\n",
        "4. Statsmodels"
      ],
      "metadata": {
        "id": "tBk9uGPxg5fR"
      }
    },
    {
      "cell_type": "code",
      "source": [
        "import math\n",
        "import numpy as np\n",
        "from scipy import integrate\n",
        "from scipy.optimize import minimize\n",
        "from scipy.sparse import random\n",
        "from scipy.linalg import solve\n",
        "from scipy.interpolate import interp1d\n",
        "from scipy.linalg import eigh\n",
        "from scipy.fft import fft\n",
        "from scipy.signal import convolve\n",
        "from scipy.stats import norm\n",
        "from scipy import ndimage\n",
        "from scipy.special import jn\n",
        "from scipy.sparse.csgraph import shortest_path\n",
        "from scipy.sparse import csr_matrix\n",
        "from scipy.spatial import distance\n",
        "from scipy.io import loadmat\n",
        "from sklearn.datasets import load_iris\n",
        "import statsmodels.api as sm\n",
        "from statsmodels.sandbox.stats.runs import mcnemar\n",
        "import matplotlib.pyplot as plt"
      ],
      "metadata": {
        "id": "O8N9iZ8UqRbC"
      },
      "execution_count": null,
      "outputs": []
    },
    {
      "cell_type": "markdown",
      "source": [
        "## 1. Biblioteca math\n",
        "\n",
        "A biblioteca math no Python é um módulo integrado que oferece uma coleção de funções para realizar várias operações matemáticas. A biblioteca inclui funções para aritmética fundamental, bem como operações matemáticas avançadas, como trigonometria, logaritmos e operações com números complexos.\n",
        "\n",
        "A biblioteca matemática do Python torna simples a realização de operações matemáticas complexas sem a necessidade de cálculos matemáticos complexos. É uma ferramenta eficaz para aplicações científicas e de engenharia, bem como para resolução de problemas em finanças, ciência de dados e outras disciplinas.\n",
        "\n",
        "Neste artigo, vamos analisar as funções e constantes que você pode usar em seus projetos."
      ],
      "metadata": {
        "id": "ALv2ssPoo08A"
      }
    },
    {
      "cell_type": "markdown",
      "source": [
        "### pi\n",
        "\n",
        "Variável para o número π."
      ],
      "metadata": {
        "id": "S-XXx5BLp1p9"
      }
    },
    {
      "cell_type": "code",
      "source": [
        "print(\"Valor de pi:\", math.pi)"
      ],
      "metadata": {
        "colab": {
          "base_uri": "https://localhost:8080/"
        },
        "id": "75o8h10gqI5s",
        "outputId": "4a1cbc83-8477-4673-e368-cc1337e498f6"
      },
      "execution_count": null,
      "outputs": [
        {
          "output_type": "stream",
          "name": "stdout",
          "text": [
            "Valor de pi: 3.141592653589793\n"
          ]
        }
      ]
    },
    {
      "cell_type": "markdown",
      "source": [
        "### e\n",
        "Variável para o número e."
      ],
      "metadata": {
        "id": "GhUylXxNqY6F"
      }
    },
    {
      "cell_type": "code",
      "source": [
        "print(\"Valor de e:\", math.e)"
      ],
      "metadata": {
        "colab": {
          "base_uri": "https://localhost:8080/"
        },
        "id": "c30fVy2FqUwe",
        "outputId": "c345a35c-54cb-4205-ca6f-2cc368614dbd"
      },
      "execution_count": null,
      "outputs": [
        {
          "output_type": "stream",
          "name": "stdout",
          "text": [
            "Valor de e: 2.718281828459045\n"
          ]
        }
      ]
    },
    {
      "cell_type": "markdown",
      "source": [
        "### Infinito Positivo e Negativo\n",
        "A função math.inf fornece um infinito positivo em termos de ponto flutuante.Já a função -math.inf para infinito negativo."
      ],
      "metadata": {
        "id": "tV3WcXKxqrkV"
      }
    },
    {
      "cell_type": "code",
      "source": [
        "print(\"infinito positivo:\", math.inf)\n",
        "print(\"infinito negativo:\", -math.inf)"
      ],
      "metadata": {
        "colab": {
          "base_uri": "https://localhost:8080/"
        },
        "id": "cuJueTcMq5I2",
        "outputId": "2665c206-6ccd-49e6-ea4d-ac4d86bf9f0c"
      },
      "execution_count": null,
      "outputs": [
        {
          "output_type": "stream",
          "name": "stdout",
          "text": [
            "infinito positivo: inf\n",
            "infinito negativo: -inf\n"
          ]
        }
      ]
    },
    {
      "cell_type": "markdown",
      "source": [
        "### Ceil(x) e Floor(x)\n",
        "\n",
        "A função 'math.floor()' retorna o maior número inteiro menor ou igual a um número dado. Já a função 'math.ceil()' retorna o menor número inteiro maior ou igual a um número dado."
      ],
      "metadata": {
        "id": "NJTGGWCArB5j"
      }
    },
    {
      "cell_type": "code",
      "execution_count": null,
      "metadata": {
        "colab": {
          "base_uri": "https://localhost:8080/"
        },
        "id": "I3UWXmaMgycj",
        "outputId": "e9d3c19f-acb0-4ca2-851b-01885bfd118f"
      },
      "outputs": [
        {
          "output_type": "stream",
          "name": "stdout",
          "text": [
            "3.14 arredondado para baixo: 3\n",
            "3.14 arredondado para cima: 4\n"
          ]
        }
      ],
      "source": [
        "import math\n",
        "\n",
        "\n",
        "resultado1 = math.floor(3.14)\n",
        "resultado2 = math.ceil(3.14)\n",
        "\n",
        "print(\"3.14 arredondado para baixo:\", resultado1)\n",
        "print(\"3.14 arredondado para cima:\", resultado2)"
      ]
    },
    {
      "cell_type": "markdown",
      "source": [
        "### sqrt(x) e exp(x)\n",
        "A função math.sqrt() retorna a raiz quadrada de x.\n",
        "A função math.exp() retorna o valor exponencial de x."
      ],
      "metadata": {
        "id": "-C3s_ZIgtCxA"
      }
    },
    {
      "cell_type": "code",
      "source": [
        "resultado1 = math.sqrt(144)\n",
        "print(\"Raiz Quadrada de 144:\", resultado1)\n",
        "\n",
        "resultado2 = math.exp(3)\n",
        "print(\"Exponencial de 3:\", resultado2)"
      ],
      "metadata": {
        "colab": {
          "base_uri": "https://localhost:8080/"
        },
        "id": "DHyFvMV5tSWI",
        "outputId": "2545dfbd-803d-44e2-a482-7c5525f25e98"
      },
      "execution_count": null,
      "outputs": [
        {
          "output_type": "stream",
          "name": "stdout",
          "text": [
            "Raiz Quadrada de 144: 12.0\n",
            "Exponencial de 3: 20.085536923187668\n"
          ]
        }
      ]
    },
    {
      "cell_type": "markdown",
      "source": [
        "### sin(x) e cos(x) e tan(x)\n",
        "\n",
        "Retorna o seno de x (em radianos).\n",
        "Retorna o cosseno de x (em radianos).\n",
        "Retorna a tangente de x (em radianos).\n",
        "\n",
        "### asin(x) e acos(x) e atan(x)\n",
        "\n",
        "Retorna o arcosseno de x (em radianos).\n",
        "Retorna o arcocosseno de x (em radianos).\n",
        "Retorna a arcotangente de x (em radianos).\n",
        "\n",
        "### radians(x)\n",
        "\n",
        "Converte o ângulo x de graus para radianos.\n",
        "\n",
        "### degrees(x)\n",
        "Converte o ângulo x de radianos para graus."
      ],
      "metadata": {
        "id": "riwNDmnst3dE"
      }
    },
    {
      "cell_type": "code",
      "source": [
        "resultado1 = math.sin(0.5)\n",
        "print(\"Seno de 0.5 radianos:\", resultado1)\n",
        "\n",
        "resultado2 = math.sin(math.radians(30))\n",
        "print(\"Seno de 30 graus (convertido para radianos):\", resultado2)\n",
        "\n",
        "resultado3 = math.asin(0.5)\n",
        "print(\"Arcosseno de 0.5:\", resultado3)\n",
        "\n",
        "resultado4 = math.degrees(1)\n",
        "print(\"Convertendo 1 radiano para graus:\", resultado4)"
      ],
      "metadata": {
        "colab": {
          "base_uri": "https://localhost:8080/"
        },
        "id": "P8Iq3oxwueTY",
        "outputId": "d2ada356-16ac-4a7e-965f-71a488799e26"
      },
      "execution_count": null,
      "outputs": [
        {
          "output_type": "stream",
          "name": "stdout",
          "text": [
            "Seno de 0.5 radianos: 0.479425538604203\n",
            "Seno de 30 graus (convertido para radianos): 0.49999999999999994\n",
            "Arcosseno de 0.5: 0.5235987755982989\n",
            "Convertendo 1 radiano para graus: 57.29577951308232\n"
          ]
        }
      ]
    },
    {
      "cell_type": "markdown",
      "source": [
        "### log(x, base)\n",
        "\n",
        "Retorna o logaritmo natural de x ou o logaritmo de x na base especificada, se fornecida."
      ],
      "metadata": {
        "id": "C7tWqtpwwhBs"
      }
    },
    {
      "cell_type": "code",
      "source": [
        "resultado1 = math.log(10)\n",
        "print(\"Logaritmo natural de 10:\", resultado1)\n",
        "\n",
        "resultado2 = math.log(100, 10)\n",
        "print(\"Logaritmo de 100 na base 10:\", resultado2)\n"
      ],
      "metadata": {
        "colab": {
          "base_uri": "https://localhost:8080/"
        },
        "id": "GgabQ1L_ySkR",
        "outputId": "5a228da8-f1ee-4668-caea-3e776a634a50"
      },
      "execution_count": null,
      "outputs": [
        {
          "output_type": "stream",
          "name": "stdout",
          "text": [
            "Logaritmo natural de 10: 2.302585092994046\n",
            "Logaritmo de 100 na base 10: 2.0\n"
          ]
        }
      ]
    },
    {
      "cell_type": "markdown",
      "source": [
        "## 2. Numpy\n",
        "\n",
        "Numerical Python – ou apenas NumPy – é uma biblioteca Python para cálculos numéricos e científicos. Com o NumPy, você pode realizar uma ampla gama de operações matemáticas em arrays de forma eficiente. Alguns dos principais recursos do NumPy são:\n",
        "\n",
        "1. **Arrays Multidimensionais:** Com o NumPy, você pode criar arrays de qualquer tipo e dimensão. Esses arrays são especialmente projetados para lidar com operações matemáticas de forma eficiente.\n",
        "\n",
        "2. **Funções Matemáticas:** O NumPy oferece uma vasta coleção de funções matemáticas para trabalhar com seus arrays. Desde operações aritméticas básicas até funções trigonométricas, exponenciais e logarítmicas, o NumPy tem tudo que você precisa.\n",
        "\n",
        "3. **Operações de Álgebra Linear:** Se você precisa realizar operações de álgebra linear, o NumPy é a escolha certa. Ele oferece funções para multiplicação de matrizes, inversão de matrizes, decomposição SVD e muito mais.\n",
        "\n",
        "4. **Indexação e Fatiamento Avançados:** Com o NumPy, você pode facilmente acessar partes específicas de seus arrays usando técnicas avançadas de indexação e fatiamento. Isso permite uma manipulação eficiente dos seus dados.\n",
        "\n",
        "5. **Funcionalidades Estatísticas:** Além disso, o NumPy inclui uma série de funções estatísticas para análise de dados. Você pode calcular médias, medianas, desvios padrão e muito mais com facilidade.\n",
        "\n",
        "6. **Geração de Números Aleatórios:** Ele inclui um módulo para geração de números aleatórios com várias distribuições probabilísticas.\n",
        "\n",
        "\n",
        "Com todas essas funcionalidades, o NumPy se torna uma ferramenta essencial para qualquer projeto que envolva cálculos numéricos ou científicos em Python. Abaixo iremos descubrir um pouco do potencial que o NumPy oferece!"
      ],
      "metadata": {
        "id": "_BhBBIqSyvEf"
      }
    },
    {
      "cell_type": "markdown",
      "source": [
        "### 1. Arrays Multidimensionais:\n",
        "\n",
        "Com o 'np.array' podemos criar arrays multidimensionais e depois podemos acessar um elemento específico desse array usando a indexação [linha, coluna]."
      ],
      "metadata": {
        "id": "GvpR8gV60aFr"
      }
    },
    {
      "cell_type": "code",
      "source": [
        "arr = np.array([[1, 2, 3], [4, 5, 6]])\n",
        "\n",
        "print(\"Elemento na posição (1, 2):\", arr[1, 2])"
      ],
      "metadata": {
        "colab": {
          "base_uri": "https://localhost:8080/"
        },
        "id": "9XS9YHYo0ZVv",
        "outputId": "adee4b7c-093e-452e-a282-fea85bc9f56c"
      },
      "execution_count": null,
      "outputs": [
        {
          "output_type": "stream",
          "name": "stdout",
          "text": [
            "Elemento na posição (1, 2): 6\n"
          ]
        }
      ]
    },
    {
      "cell_type": "markdown",
      "source": [
        "### 2. Funções Matemáticas:\n",
        "\n",
        "Usei a função 'np.sin' de exemplo abaixo para podermos calcular o seno de todos os elementos contidos no nosso array."
      ],
      "metadata": {
        "id": "J94DkMmP1OeN"
      }
    },
    {
      "cell_type": "code",
      "source": [
        "arr = np.array([1, 2, 3, 4, 5])\n",
        "\n",
        "sin_arr = np.sin(arr)\n",
        "print(\"Seno:\", sin_arr)"
      ],
      "metadata": {
        "colab": {
          "base_uri": "https://localhost:8080/"
        },
        "id": "mViGyOz51fX8",
        "outputId": "a467f12a-8bfe-4280-d421-e0782888d17e"
      },
      "execution_count": null,
      "outputs": [
        {
          "output_type": "stream",
          "name": "stdout",
          "text": [
            "Seno: [ 0.84147098  0.90929743  0.14112001 -0.7568025  -0.95892427]\n"
          ]
        }
      ]
    },
    {
      "cell_type": "markdown",
      "source": [
        "### 3. Operações de Álgebra Linear:\n",
        "\n",
        "No exemplo abaixo criei duas matrizes(A e B) e depois usei o 'np.dot' para fazer uma multiplicação entre elas."
      ],
      "metadata": {
        "id": "jPfJR1uF1l_h"
      }
    },
    {
      "cell_type": "code",
      "source": [
        "A = np.array([[1, 2], [3, 4]])\n",
        "B = np.array([[5, 6], [7, 8]])\n",
        "\n",
        "result = np.dot(A, B)\n",
        "print(\"Multiplicação de matrizes:\")\n",
        "print(result)"
      ],
      "metadata": {
        "colab": {
          "base_uri": "https://localhost:8080/"
        },
        "id": "wG-96H_k2ZCU",
        "outputId": "9cc5e67d-8252-4ed7-e65b-8f0ed1bcce22"
      },
      "execution_count": null,
      "outputs": [
        {
          "output_type": "stream",
          "name": "stdout",
          "text": [
            "Multiplicação de matrizes:\n",
            "[[19 22]\n",
            " [43 50]]\n"
          ]
        }
      ]
    },
    {
      "cell_type": "markdown",
      "source": [
        "### 4. Indexação e Fatiamento Avançados:\n",
        "\n",
        "Criamos um array multidimensional. Em seguida, fatiamos o array para selecionar uma submatriz contendo as duas primeiras linhas e todas as colunas a partir da segunda coluna."
      ],
      "metadata": {
        "id": "uihJ3FcZ1nKs"
      }
    },
    {
      "cell_type": "code",
      "source": [
        "arr = np.array([[1, 2, 3], [4, 5, 6], [7, 8, 9]])\n",
        "\n",
        "submatriz = arr[:2, 1:]\n",
        "print(\"Submatriz:\")\n",
        "print(submatriz)"
      ],
      "metadata": {
        "colab": {
          "base_uri": "https://localhost:8080/"
        },
        "id": "XcGeHrYzFXWp",
        "outputId": "1699c333-5412-4118-a1fc-2af803a6cd7d"
      },
      "execution_count": null,
      "outputs": [
        {
          "output_type": "stream",
          "name": "stdout",
          "text": [
            "Submatriz:\n",
            "[[2 3]\n",
            " [5 6]]\n"
          ]
        }
      ]
    },
    {
      "cell_type": "markdown",
      "source": [
        "### 5. Funcionalidades Estatísticas:\n",
        "\n",
        "Abaixo podemos ver o uso da Função 'np.mean(x)' e 'np.median(x)' em que calculamos a média e a mediana do nosso array."
      ],
      "metadata": {
        "id": "pT0yi4fc1pHU"
      }
    },
    {
      "cell_type": "code",
      "source": [
        "arr = np.array([1, 2, 3, 3, 4, 5])\n",
        "\n",
        "mean = np.mean(arr)\n",
        "median = np.median(arr)\n",
        "print(\"Média:\", mean)\n",
        "print(\"Mediana:\", median)"
      ],
      "metadata": {
        "colab": {
          "base_uri": "https://localhost:8080/"
        },
        "id": "7Wm9OjXHFkS4",
        "outputId": "4eeebf38-10a6-43d8-d6a6-9f999b92ce0e"
      },
      "execution_count": null,
      "outputs": [
        {
          "output_type": "stream",
          "name": "stdout",
          "text": [
            "Média: 3.0\n",
            "Mediana: 3.0\n"
          ]
        }
      ]
    },
    {
      "cell_type": "markdown",
      "source": [
        "### 6. Geração de Números Aleatórios:\n",
        "\n",
        "O código abaixo nos mostra como o NumPy pode gerar números aleatórios com diferentes distribuições. No exemplo abaixo usamos a distribuição normal, onde números aleatórios são gerados e arredondados para inteiros. O código exibe os primeiros 10 números aleatórios inteiros gerados."
      ],
      "metadata": {
        "id": "CPPlrNH8ARRk"
      }
    },
    {
      "cell_type": "code",
      "source": [
        "# Gerando números aleatórios com distribuição normal\n",
        "mean = 0\n",
        "std_dev = 1\n",
        "random_numbers = np.random.normal(mean, std_dev, size=1000)\n",
        "\n",
        "# Arredondando os números para inteiros\n",
        "rounded_numbers = np.round(random_numbers).astype(int)\n",
        "\n",
        "print(\"Exemplo de números aleatórios inteiros com distribuição normal:\")\n",
        "print(rounded_numbers[:10])  # Exibindo os primeiros 10 números aleatórios inteiros"
      ],
      "metadata": {
        "colab": {
          "base_uri": "https://localhost:8080/"
        },
        "id": "oa3SfI8jAYYr",
        "outputId": "69872496-7a4c-4de4-a5b7-c7078b8c1ed0"
      },
      "execution_count": null,
      "outputs": [
        {
          "output_type": "stream",
          "name": "stdout",
          "text": [
            "Exemplo de números aleatórios inteiros com distribuição normal:\n",
            "[ 0  0  2  1  2  0  1  0  0 -1]\n"
          ]
        }
      ]
    },
    {
      "cell_type": "markdown",
      "source": [
        "## 3. Scipy\n",
        "\n",
        "SciPy é uma biblioteca Python que oferece uma ampla variedade de funcionalidades para computação científica. Seu foco principal está em tarefas matemáticas. É uma ferramenta essencial para pessoas que precisam realizar cálculos complexos em seus projetos. A biblioteca tem como seus principais recursos:\n",
        "\n",
        "1. **Integração Numérica (scipy.integrate):** SciPy oferece ferramentas para calcular integrais definidas numericamente.\n",
        "\n",
        "2. **Otimização (scipy.optimize):** Com SciPy, você pode encontrar os mínimos de funções escalares de uma ou mais variáveis.\n",
        "\n",
        "3. **Cálculo de Autovalores em Matrizes Esparsas (scipy.sparse):** A biblioteca Scipy é muito útil para calcular autovalores em matrizes esparsas.\n",
        "\n",
        "4. **Álgebra Linear (scipy.linalg):** O SciPy fornece funções para resolver sistemas lineares, encontrar autovalores e autovetores, calcular a decomposição de valores singulares e realizar operações de matriz.\n",
        "\n",
        "5. **Interpolação (scipy.interpolate):** Com SciPy, é possível realizar interpolação de dados em 1D e ND, o que é útil para preencher lacunas em dados ou para criar funções suavizadas.\n",
        "\n",
        "6. **Transformada de Fourier (scipy.fft):**  A biblioteca oferece ferramentas para calcular a transformada de Fourier discreta (DFT), transformada rápida de Fourier (FFT) e suas variantes.\n",
        "\n",
        "7. **Processamento de Sinais (scipy.signal):** SciPy inclui funções para filtragem digital, convolução, correlação cruzada e outras operações comuns de processamento de sinais.\n",
        "\n",
        "8. **Estatísticas (scipy.stats):**  Ele fornece funções estatísticas para calcular médias, medianas, desvios padrão, correlações e realizar testes estatísticos.\n",
        "\n",
        "9. **Processamento de Imagens (scipy.ndimage)E:** SciPy oferece recursos para processamento de imagem, incluindo filtragem, manipulação de pixels, segmentação e transformações geométricas.\n",
        "\n",
        "10. **Funções Especiais (scipy.special):** O Scipy oferece funções especiais, como funções Bessel e funções hipergeométricas.\n",
        "\n",
        "11. **Rotinas de Gráficos Esparsos Comprimidos (scipy.sparse.csgraph):** Fornece rotinas para trabalhar com grafos esparsos comprimidos, incluindo algoritmos para encontrar os componentes conectados e calcular os caminhos mais curtos.\n",
        "\n",
        "12. **Estruturas e Algoritmos de Dados Espaciais (scipy.spatial):** Oferece funcionalidades para trabalhar com estruturas de dados espaciais, como árvores KD e Delaunay triangulations, bem como algoritmos para cálculos relacionados a distâncias espaciais.\n",
        "\n",
        "13. **File IO (scipy.io):** Oferece ferramentas para leitura e escrita de dados em diversos formatos de arquivo, incluindo arquivos MATLAB e arquivos de imagem."
      ],
      "metadata": {
        "id": "SDooGelzzFLi"
      }
    },
    {
      "cell_type": "markdown",
      "source": [
        "### 1. Integração Numérica:\n",
        "Neste exemplo, estamos calculando a integral de x² no intervalo de 0 a 1. O resultado é armazenado na variável 'resultado'. O valor da integral é então impresso na tela."
      ],
      "metadata": {
        "id": "JfDuuRjAKMAp"
      }
    },
    {
      "cell_type": "code",
      "source": [
        "# Definindo a função a ser integrada\n",
        "def f(x):\n",
        "    return x**2\n",
        "\n",
        "# Calculando a integral definida de 0 a 1\n",
        "result = integrate.quad(f, 0, 1)\n",
        "print(\"Resultado da Integral:\", result[0])"
      ],
      "metadata": {
        "colab": {
          "base_uri": "https://localhost:8080/"
        },
        "id": "3ZIwrIR7KIun",
        "outputId": "515e3e33-93fb-4609-8d33-ff820feb8db7"
      },
      "execution_count": null,
      "outputs": [
        {
          "output_type": "stream",
          "name": "stdout",
          "text": [
            "Resultado da Integral: 0.33333333333333337\n"
          ]
        }
      ]
    },
    {
      "cell_type": "markdown",
      "source": [
        "### 2. Otimização:\n",
        "Neste código, estamos definindo uma função objetivo chamada f(x), que é a função quadrática (x-2)². Em seguida, utilizamos a função 'minimize' da SciPy para encontrar o mínimo global da função f(x). Passamos a função f(x) e um ponto inicial para a minimização, que é 0 neste caso.\n",
        "\n",
        "Depois de executar a função 'minimize', o resultado é armazenado na variável 'result'. Para acessar o valor do mínimo encontrado, usamos 'result.x', que nos dá o valor de x correspondente ao mínimo global da função."
      ],
      "metadata": {
        "id": "2vS1To91KN3W"
      }
    },
    {
      "cell_type": "code",
      "source": [
        "# Definindo a função objetivo\n",
        "def f(x):\n",
        "    return (x - 2) ** 2\n",
        "\n",
        "# Encontrando o mínimo da função\n",
        "result = minimize(f, 0)\n",
        "print(\"Mínimo encontrado:\", result.x)"
      ],
      "metadata": {
        "colab": {
          "base_uri": "https://localhost:8080/"
        },
        "id": "ferTFd59KQvi",
        "outputId": "a10102fa-38ef-41dc-abcd-8d8cc78d7260"
      },
      "execution_count": null,
      "outputs": [
        {
          "output_type": "stream",
          "name": "stdout",
          "text": [
            "Mínimo encontrado: [1.99999998]\n"
          ]
        }
      ]
    },
    {
      "cell_type": "markdown",
      "source": [
        "### 3. Autovalores em Matrizes Esparsas:\n",
        "\n",
        "Este código cria uma matriz esparsa aleatória, a converte em uma matriz densa e calcula todos os autovalores dessa matriz densa."
      ],
      "metadata": {
        "id": "fVa3mO4fKQ-k"
      }
    },
    {
      "cell_type": "code",
      "source": [
        "# Criando uma matriz esparsa aleatória\n",
        "sparse_matrix = random(5, 5, density=0.2)\n",
        "\n",
        "# Convertendo a matriz esparsa para uma matriz densa\n",
        "dense_matrix = sparse_matrix.toarray()\n",
        "\n",
        "# Calculando todos os autovalores usando scipy.linalg.eigh para matrizes densas\n",
        "eigenvalues = eigh(dense_matrix)[0]\n",
        "print(\"Autovalores:\", eigenvalues)"
      ],
      "metadata": {
        "colab": {
          "base_uri": "https://localhost:8080/"
        },
        "id": "mwfgJb5vKRUe",
        "outputId": "b4b5e4fa-7b3d-4766-9d70-cc4044de3266"
      },
      "execution_count": null,
      "outputs": [
        {
          "output_type": "stream",
          "name": "stdout",
          "text": [
            "Autovalores: [0.         0.         0.         0.         0.28158838]\n"
          ]
        }
      ]
    },
    {
      "cell_type": "markdown",
      "source": [
        "### 4. Álgebra Linear:\n",
        "\n",
        "Este código resolve um sistema linear representado pela matriz de coeficientes\n",
        "A e o vetor de constantes b."
      ],
      "metadata": {
        "id": "w8lxHqiUg2t8"
      }
    },
    {
      "cell_type": "code",
      "source": [
        "# Resolvendo um sistema linear\n",
        "A = [[3, 2], [2, -1]]\n",
        "b = [1, 2]\n",
        "x = solve(A, b)\n",
        "print(\"Solução do sistema linear:\", x)"
      ],
      "metadata": {
        "colab": {
          "base_uri": "https://localhost:8080/"
        },
        "id": "P7ksrZ3depEt",
        "outputId": "bbff91ad-13c4-44a9-ff69-c4ca9f52c216"
      },
      "execution_count": null,
      "outputs": [
        {
          "output_type": "stream",
          "name": "stdout",
          "text": [
            "Solução do sistema linear: [ 0.71428571 -0.57142857]\n"
          ]
        }
      ]
    },
    {
      "cell_type": "markdown",
      "source": [
        "### 5. Interpolação:\n",
        "\n",
        "Este código realiza uma interpolação dos dados fornecidos utilizando a função interp1d da SciPy. Os dados de entrada são fornecidos como listas de valores para x e y, representando pontos no plano. A interpolação é feita usando um tipo específico de interpolação cúbica definido pelo parâmetro kind='cubic'. Em seguida, o valor interpolado em x =2.5 é calculado usando a função interpoladora f e impresso na tela."
      ],
      "metadata": {
        "id": "jMCo-SqFg3I1"
      }
    },
    {
      "cell_type": "code",
      "source": [
        "# Dados para interpolação\n",
        "x = [0, 1, 2, 3, 4]\n",
        "y = [0, 1, 4, 9, 16]\n",
        "\n",
        "# Interpolando os dados\n",
        "f = interp1d(x, y, kind='cubic')\n",
        "print(\"Interpolado em x=2.5:\", f(2.5))"
      ],
      "metadata": {
        "colab": {
          "base_uri": "https://localhost:8080/"
        },
        "id": "zfYEdCq1ep_m",
        "outputId": "a44db70b-6399-4d64-8334-d688dc489455"
      },
      "execution_count": null,
      "outputs": [
        {
          "output_type": "stream",
          "name": "stdout",
          "text": [
            "Interpolado em x=2.5: 6.250000000000001\n"
          ]
        }
      ]
    },
    {
      "cell_type": "markdown",
      "source": [
        "### 6. Transformada de Fourier:\n",
        "\n",
        "Usamos o código abaixo para calcular a Transformada de Fourier Discreta (DFT) de um sinal de exemplo usando a função scipy.fft. O sinal de exemplo é [1, 2, 3, 4]. A DFT é uma técnica que decompoem sinais em suas componentes de frequência"
      ],
      "metadata": {
        "id": "z1Dfx6kWhTO9"
      }
    },
    {
      "cell_type": "code",
      "source": [
        "# Sinal de exemplo\n",
        "signal = np.array([1, 2, 3, 4])\n",
        "\n",
        "# Calculando a Transformada de Fourier discreta (DFT)\n",
        "fft_result = fft(signal)\n",
        "print(\"Transformada de Fourier:\", fft_result)"
      ],
      "metadata": {
        "colab": {
          "base_uri": "https://localhost:8080/"
        },
        "id": "Omc_OyuEhTjW",
        "outputId": "c57a8c2e-af92-4d6e-e813-27452248490b"
      },
      "execution_count": null,
      "outputs": [
        {
          "output_type": "stream",
          "name": "stdout",
          "text": [
            "Transformada de Fourier: [10.-0.j -2.+2.j -2.-0.j -2.-2.j]\n"
          ]
        }
      ]
    },
    {
      "cell_type": "markdown",
      "source": [
        "### 7. Processamento de Sinais:\n",
        "\n",
        "Este trecho explica o processamento de sinais, que envolve manipulações em sinais, como filtragem, convolução e correlação cruzada. Aqui, apresentamos um exemplo de aplicação de um filtro de média móvel usando a função scipy.signal.convolve. Primeiro, definimos um sinal de exemplo, representado pelo array [1, 2, 3, 4, 5]. Em seguida, definimos o kernel do filtro de média móvel, que é um array que determina como o filtro irá operar sobre o sinal. Neste caso, o kernel é [0.25, 0.5, 0.25]. Por fim, aplicamos o filtro de média móvel ao sinal usando a função convolve, e o sinal filtrado é armazenado na variável filtered_signal, que é então impresso na tela."
      ],
      "metadata": {
        "id": "oDziP0EGhUKt"
      }
    },
    {
      "cell_type": "code",
      "source": [
        "# Sinal de exemplo\n",
        "signal = np.array([1, 2, 3, 4, 5])\n",
        "\n",
        "# Definindo o kernel do filtro de média móvel\n",
        "kernel = np.array([0.25, 0.5, 0.25])\n",
        "\n",
        "# Aplicando o filtro de média móvel\n",
        "filtered_signal = convolve(signal, kernel, mode='valid')\n",
        "print(\"Sinal filtrado:\", filtered_signal)"
      ],
      "metadata": {
        "colab": {
          "base_uri": "https://localhost:8080/"
        },
        "id": "CNQG9OeBhUgY",
        "outputId": "7ab56415-3139-4ca9-c643-0024e2a97add"
      },
      "execution_count": null,
      "outputs": [
        {
          "output_type": "stream",
          "name": "stdout",
          "text": [
            "Sinal filtrado: [2. 3. 4.]\n"
          ]
        }
      ]
    },
    {
      "cell_type": "markdown",
      "source": [
        "### 8. Estatísticas (scipy.stats):\n",
        "\n",
        "A biblioteca scipy.stats fornece uma variedade de funções estatísticas para análise de dados. Aqui está um exemplo simples de cálculo da média e do desvio padrão de um conjunto de dados."
      ],
      "metadata": {
        "id": "EicG0DZnhUrS"
      }
    },
    {
      "cell_type": "code",
      "source": [
        "# Gerando dados de exemplo (distribuição normal)\n",
        "data = norm.rvs(loc=0, scale=1, size=100)\n",
        "\n",
        "# Calculando a média e o desvio padrão usando scipy.stats\n",
        "mean, std_dev = norm.fit(data)\n",
        "print(\"Média:\", mean)\n",
        "print(\"Desvio padrão:\", std_dev)"
      ],
      "metadata": {
        "colab": {
          "base_uri": "https://localhost:8080/"
        },
        "id": "lWX3nwhDhU8q",
        "outputId": "6bbc7a4a-3726-430d-a9b9-839bbb88a622"
      },
      "execution_count": null,
      "outputs": [
        {
          "output_type": "stream",
          "name": "stdout",
          "text": [
            "Média: -0.009287336044865735\n",
            "Desvio padrão: 1.052481635319704\n"
          ]
        }
      ]
    },
    {
      "cell_type": "markdown",
      "source": [
        "### 9. Processamento de Imagens:\n",
        "\n",
        "O código aplica um filtro de média em uma imagem gerada aleatoriamente. Ele usa a função median_filter do módulo scipy.ndimage para realizar a filtragem e exibe tanto a imagem original quanto a imagem filtrada lado a lado."
      ],
      "metadata": {
        "id": "YWelno5ZhVJq"
      }
    },
    {
      "cell_type": "code",
      "source": [
        "# Gerando uma imagem de exemplo\n",
        "image = np.random.random((100, 100))\n",
        "\n",
        "# Aplicando um filtro de média à imagem\n",
        "filtered_image = ndimage.median_filter(image, size=3)\n",
        "\n",
        "# Exibindo a imagem original e a imagem filtrada\n",
        "plt.figure(figsize=(10, 5))\n",
        "plt.subplot(1, 2, 1)\n",
        "plt.imshow(image, cmap='gray')\n",
        "plt.title('Imagem Original')\n",
        "plt.subplot(1, 2, 2)\n",
        "plt.imshow(filtered_image, cmap='gray')\n",
        "plt.title('Imagem Filtrada')\n",
        "plt.show()"
      ],
      "metadata": {
        "colab": {
          "base_uri": "https://localhost:8080/",
          "height": 435
        },
        "id": "v-f1dIL6hVgr",
        "outputId": "c9c0a232-3869-48f2-ff73-04fdd028fba8"
      },
      "execution_count": null,
      "outputs": [
        {
          "output_type": "display_data",
          "data": {
            "text/plain": [
              "<Figure size 1000x500 with 2 Axes>"
            ],
            "image/png": "[encoded data removed]"
          },
          "metadata": {}
        }
      ]
    },
    {
      "cell_type": "markdown",
      "source": [
        "### 10. Funções Especiais:\n",
        "\n",
        "O scipy.special fornece uma variedade de funções especiais, como funções Bessel e funções hipergeométricas. Um exemplo simples é o nosso código que calcula a função Bessel de primeira espécie de ordem 2 usando a função jn do módulo scipy.special."
      ],
      "metadata": {
        "id": "0_2ZFgc2iJ0T"
      }
    },
    {
      "cell_type": "code",
      "source": [
        "# Calculando a função Bessel de primeira espécie de ordem 2\n",
        "result = jn(2, np.pi)\n",
        "print(\"Valor da função Bessel:\", result)"
      ],
      "metadata": {
        "colab": {
          "base_uri": "https://localhost:8080/"
        },
        "id": "waG7ybAEiKJP",
        "outputId": "a909b49e-ab69-4851-f2fb-a49e0e16f7e2"
      },
      "execution_count": null,
      "outputs": [
        {
          "output_type": "stream",
          "name": "stdout",
          "text": [
            "Valor da função Bessel: 0.48543393263150925\n"
          ]
        }
      ]
    },
    {
      "cell_type": "markdown",
      "source": [
        "### 11. Rotinas de Gráficos Esparsos Comprimidos (scipy.sparse.csgraph):\n",
        "\n",
        "O scipy.sparse.csgraph fornece rotinas para trabalhar com grafos esparsos comprimidos, incluindo algoritmos para encontrar os componentes conectados e calcular os caminhos mais curtos. O nosso código utiliza as rotinas de gráficos esparsos comprimidos do módulo scipy.sparse.csgraph. Primeiro, é definida uma matriz de adjacência representando um grafo esparsamente conectado. Em seguida, a função shortest_path é usada para encontrar o caminho mais curto entre os nós 0 e 2 no grafo."
      ],
      "metadata": {
        "id": "62RiCcTeiKWk"
      }
    },
    {
      "cell_type": "code",
      "source": [
        "# Definindo o grafo como uma matriz de adjacência\n",
        "graph = csr_matrix([[0, 1, 2],\n",
        "                    [1, 0, 4],\n",
        "                    [2, 4, 0]])\n",
        "\n",
        "# Calculando o caminho mais curto entre os nós 0 e 2\n",
        "shortest_paths = shortest_path(graph, indices=0, return_predecessors=False)\n",
        "shortest_path_length = shortest_paths[2]\n",
        "print(\"Comprimento do caminho mais curto:\", shortest_path_length)"
      ],
      "metadata": {
        "colab": {
          "base_uri": "https://localhost:8080/"
        },
        "id": "xL5dAsRwiKva",
        "outputId": "47395185-615e-44c4-e85f-4032e2604b9e"
      },
      "execution_count": null,
      "outputs": [
        {
          "output_type": "stream",
          "name": "stdout",
          "text": [
            "Comprimento do caminho mais curto: 2.0\n"
          ]
        }
      ]
    },
    {
      "cell_type": "markdown",
      "source": [
        "### 12. Estruturas e Algoritmos de Dados Espaciais (scipy.spatial):\n",
        "\n",
        "O scipy.spatial oferece funcionalidades para trabalhar com estruturas de dados espaciais, como árvores KD e Delaunay triangulations, bem como algoritmos para cálculos relacionados a distâncias espaciais. Este trecho de código demonstra o uso das estruturas e algoritmos de dados espaciais do módulo scipy.spatial. Primeiro, dois pontos no espaço tridimensional são definidos. Em seguida, a função distance.euclidean é utilizada para calcular a distância euclidiana entre esses dois pontos. O resultado é então impresso na tela."
      ],
      "metadata": {
        "id": "8o6XvG6riLVd"
      }
    },
    {
      "cell_type": "code",
      "source": [
        "# Definindo dois pontos no espaço tridimensional\n",
        "point1 = (1, 2, 3)\n",
        "point2 = (4, 5, 6)\n",
        "\n",
        "# Calculando a distância euclidiana entre os pontos\n",
        "euclidean_distance = distance.euclidean(point1, point2)\n",
        "print(\"Distância Euclidiana:\", euclidean_distance)"
      ],
      "metadata": {
        "colab": {
          "base_uri": "https://localhost:8080/"
        },
        "id": "YfX6VqDOiLjp",
        "outputId": "27d223bf-1b40-41cf-c08f-91c546cccad0"
      },
      "execution_count": null,
      "outputs": [
        {
          "output_type": "stream",
          "name": "stdout",
          "text": [
            "Distância Euclidiana: 5.196152422706632\n"
          ]
        }
      ]
    },
    {
      "cell_type": "markdown",
      "source": [
        "### 13. File IO (scipy.io):\n",
        "\n",
        "O scipy.io oferece ferramentas para leitura e escrita de dados em diversos formatos de arquivo, incluindo arquivos MATLAB e arquivos de imagem. Esse trecho de código abaixo ilustra como usar o módulo scipy.io para carregar dados de um arquivo MATLAB (.mat). Primeiro, tentamos carregar os dados do arquivo 'dados.mat' usando a função loadmat. Se o arquivo for encontrado, as variáveis desejadas são extraídas do objeto de dados retornado e podem ser usadas posteriormente. No entanto, se o arquivo não for encontrado, uma mensagem de aviso é exibida informando que o arquivo não foi encontrado. Isso pode ser útil para lidar com exceções quando se trabalha com arquivos de dados."
      ],
      "metadata": {
        "id": "Bx3k-DXYiQEq"
      }
    },
    {
      "cell_type": "code",
      "source": [
        "try:\n",
        "    # Carregando dados de um arquivo MATLAB\n",
        "    data = loadmat('dados.mat')\n",
        "\n",
        "    # Extraindo as variáveis do arquivo\n",
        "    variable1 = data['variavel1']\n",
        "    variable2 = data['variavel2']\n",
        "\n",
        "    # Faça algo com as variáveis extraídas\n",
        "except FileNotFoundError:\n",
        "    print(\"Arquivo 'dados.mat' não encontrado. Verifique o caminho e tente novamente.\")"
      ],
      "metadata": {
        "colab": {
          "base_uri": "https://localhost:8080/"
        },
        "id": "lmAHEwOEiQbs",
        "outputId": "87b67454-c9bc-4fcb-c39a-5bd87e0b2822"
      },
      "execution_count": null,
      "outputs": [
        {
          "output_type": "stream",
          "name": "stdout",
          "text": [
            "Arquivo 'dados.mat' não encontrado. Verifique o caminho e tente novamente.\n"
          ]
        }
      ]
    },
    {
      "cell_type": "markdown",
      "source": [
        "## 4. Statsmodels\n",
        "\n",
        "O Statsmodels é um módulo Python que fornece vários modelos estatísticos e funções para explorar, analisar e visualizar dados. É uma biblioteca de código aberto construída sobre as bibliotecas NumPy, SciPy e Pandas. É amplamente utilizado em pesquisas acadêmicas, finanças e ciência de dados.\n",
        "\n",
        "O Statsmodels possui muitos recursos, incluindo:\n",
        "\n",
        "1. **Modelos de regressão linear:** O Statsmodels oferece uma variedade de modelos de regressão, incluindo regressão linear simples e múltipla, regressão logística, regressão robusta e muito mais. Esses modelos podem ser usados para investigar as relações entre variáveis dependentes e independentes em um conjunto de dados.\n",
        "2. **Modelos lineares generalizados:** Extensão dos modelos de regressão linear que permite acomodar distribuições de erro não normais e relações não lineares.\n",
        "3. **Análise de séries temporais:** Ele fornece funcionalidades para ajustar modelos de séries temporais, como modelos ARIMA (Médias Móveis Integradas Autoregressivas), SARIMA (Modelo Integrado Autoregressivo de Médias Móveis Sazonais), VAR (Vetor Autorregressivo), entre outros. Isso é útil para análise e previsão de dados de séries temporais.\n",
        "4. **Estatísticas multivariadas:** Explora relações entre múltiplas variáveis dependentes e independentes, permitindo uma compreensão mais completa dos dados.\n",
        "5. **Métodos não paramétricos:** São técnicas estatísticas que não fazem suposições sobre a distribuição dos dados, sendo úteis quando os dados não seguem uma distribuição específica.\n",
        "6. **Métodos estatísticos robustos:** O Statsmodels oferece uma ampla gama de testes estatísticos, como teste t, teste F, teste de qui-quadrado, teste de Durbin-Watson e muitos outros. Esses testes podem ser usados para avaliar a significância estatística de relações e diferenças nos dados."
      ],
      "metadata": {
        "id": "3iLqj7fbXNmD"
      }
    },
    {
      "cell_type": "markdown",
      "source": [
        "### 1. Modelos de Regressão Linear:\n",
        "Exemplo: Regressão linear para prever o comprimento da sépala usando a largura da sépala."
      ],
      "metadata": {
        "id": "Q5gWg660DMsw"
      }
    },
    {
      "cell_type": "code",
      "source": [
        "# Carregar o conjunto de dados Iris\n",
        "iris = load_iris()\n",
        "X = iris.data[:, 1].reshape(-1, 1)  # Largura da sépala\n",
        "y = iris.data[:, 0]  # Comprimento da sépala\n",
        "\n",
        "# Ajustar o modelo de regressão linear\n",
        "X = sm.add_constant(X)\n",
        "model = sm.OLS(y, X).fit()\n",
        "\n",
        "# Imprimir os resultados\n",
        "print(model.summary())"
      ],
      "metadata": {
        "colab": {
          "base_uri": "https://localhost:8080/"
        },
        "id": "qKyFtIDLCPQi",
        "outputId": "8a8bafbb-8873-41a2-cb23-48cccd89fe4c"
      },
      "execution_count": null,
      "outputs": [
        {
          "output_type": "stream",
          "name": "stdout",
          "text": [
            "                            OLS Regression Results                            \n",
            "==============================================================================\n",
            "Dep. Variable:                      y   R-squared:                       0.014\n",
            "Model:                            OLS   Adj. R-squared:                  0.007\n",
            "Method:                 Least Squares   F-statistic:                     2.074\n",
            "Date:                Tue, 09 Apr 2024   Prob (F-statistic):              0.152\n",
            "Time:                        17:57:58   Log-Likelihood:                -183.00\n",
            "No. Observations:                 150   AIC:                             370.0\n",
            "Df Residuals:                     148   BIC:                             376.0\n",
            "Df Model:                           1                                         \n",
            "Covariance Type:            nonrobust                                         \n",
            "==============================================================================\n",
            "                 coef    std err          t      P>|t|      [0.025      0.975]\n",
            "------------------------------------------------------------------------------\n",
            "const          6.5262      0.479     13.628      0.000       5.580       7.473\n",
            "x1            -0.2234      0.155     -1.440      0.152      -0.530       0.083\n",
            "==============================================================================\n",
            "Omnibus:                        4.389   Durbin-Watson:                   0.952\n",
            "Prob(Omnibus):                  0.111   Jarque-Bera (JB):                4.237\n",
            "Skew:                           0.360   Prob(JB):                        0.120\n",
            "Kurtosis:                       2.600   Cond. No.                         24.2\n",
            "==============================================================================\n",
            "\n",
            "Notes:\n",
            "[1] Standard Errors assume that the covariance matrix of the errors is correctly specified.\n"
          ]
        }
      ]
    },
    {
      "cell_type": "markdown",
      "source": [
        "### 2. Modelos Lineares Generalizados:\n",
        "Exemplo: Regressão de Poisson para modelar a contagem de pétalas usando a largura da pétala."
      ],
      "metadata": {
        "id": "u6grCa8YETqf"
      }
    },
    {
      "cell_type": "code",
      "source": [
        "# Carregar o conjunto de dados Iris\n",
        "iris = load_iris()\n",
        "X = iris.data[:, 3].reshape(-1, 1)  # Largura da pétala\n",
        "y = iris.target  # Tipo de íris (0, 1, 2)\n",
        "\n",
        "# Ajustar o modelo de regressão de Poisson\n",
        "X = sm.add_constant(X)\n",
        "model = sm.GLM(y, X, family=sm.families.Poisson()).fit()\n",
        "\n",
        "# Imprimir os resultados\n",
        "print(model.summary())"
      ],
      "metadata": {
        "colab": {
          "base_uri": "https://localhost:8080/"
        },
        "id": "3FiyvW5REOhe",
        "outputId": "b2899d7d-ea47-4415-9780-80acf9ae3ed7"
      },
      "execution_count": null,
      "outputs": [
        {
          "output_type": "stream",
          "name": "stdout",
          "text": [
            "                 Generalized Linear Model Regression Results                  \n",
            "==============================================================================\n",
            "Dep. Variable:                      y   No. Observations:                  150\n",
            "Model:                            GLM   Df Residuals:                      148\n",
            "Model Family:                 Poisson   Df Model:                            1\n",
            "Link Function:                    Log   Scale:                          1.0000\n",
            "Method:                          IRLS   Log-Likelihood:                -133.80\n",
            "Date:                Tue, 09 Apr 2024   Deviance:                       36.924\n",
            "Time:                        17:57:58   Pearson chi2:                     28.8\n",
            "No. Iterations:                     5   Pseudo R-squ. (CS):             0.4924\n",
            "Covariance Type:            nonrobust                                         \n",
            "==============================================================================\n",
            "                 coef    std err          z      P>|z|      [0.025      0.975]\n",
            "------------------------------------------------------------------------------\n",
            "const         -1.9210      0.267     -7.182      0.000      -2.445      -1.397\n",
            "x1             1.2607      0.142      8.873      0.000       0.982       1.539\n",
            "==============================================================================\n"
          ]
        }
      ]
    },
    {
      "cell_type": "markdown",
      "source": [
        "### 3. Análise de Séries Temporais:\n",
        "Exemplo: Ajustar um modelo ARIMA para prever a largura da sépala."
      ],
      "metadata": {
        "id": "61BlZNgbEVyM"
      }
    },
    {
      "cell_type": "code",
      "source": [
        "# Carregar o conjunto de dados Iris\n",
        "iris = load_iris()\n",
        "X = iris.data[:, 1]  # Largura da sépala\n",
        "\n",
        "# Ajustar o modelo ARIMA\n",
        "model = sm.tsa.ARIMA(X, order=(1, 0, 1)).fit()\n",
        "\n",
        "# Imprimir os resultados\n",
        "print(model.summary())"
      ],
      "metadata": {
        "colab": {
          "base_uri": "https://localhost:8080/"
        },
        "id": "PPPM2vdlEwBs",
        "outputId": "ab272211-94f9-4b44-ebd6-7211bbdfa066"
      },
      "execution_count": null,
      "outputs": [
        {
          "output_type": "stream",
          "name": "stdout",
          "text": [
            "                               SARIMAX Results                                \n",
            "==============================================================================\n",
            "Dep. Variable:                      y   No. Observations:                  150\n",
            "Model:                 ARIMA(1, 0, 1)   Log Likelihood                 -61.369\n",
            "Date:                Tue, 09 Apr 2024   AIC                            130.737\n",
            "Time:                        17:57:59   BIC                            142.780\n",
            "Sample:                             0   HQIC                           135.630\n",
            "                                - 150                                         \n",
            "Covariance Type:                  opg                                         \n",
            "==============================================================================\n",
            "                 coef    std err          z      P>|z|      [0.025      0.975]\n",
            "------------------------------------------------------------------------------\n",
            "const          3.1024      0.175     17.691      0.000       2.759       3.446\n",
            "ar.L1          0.9763      0.022     43.990      0.000       0.933       1.020\n",
            "ma.L1         -0.8412      0.060    -14.012      0.000      -0.959      -0.724\n",
            "sigma2         0.1320      0.014      9.662      0.000       0.105       0.159\n",
            "===================================================================================\n",
            "Ljung-Box (L1) (Q):                   0.96   Jarque-Bera (JB):                 3.17\n",
            "Prob(Q):                              0.33   Prob(JB):                         0.21\n",
            "Heteroskedasticity (H):               0.74   Skew:                             0.07\n",
            "Prob(H) (two-sided):                  0.30   Kurtosis:                         3.70\n",
            "===================================================================================\n",
            "\n",
            "Warnings:\n",
            "[1] Covariance matrix calculated using the outer product of gradients (complex-step).\n"
          ]
        }
      ]
    },
    {
      "cell_type": "markdown",
      "source": [
        "### 4. Estatísticas Multivariadas:\n",
        "\n",
        "Exemplo: Regressão linear múltipla para prever o comprimento da pétala com base no comprimento e largura da sépala."
      ],
      "metadata": {
        "id": "AXNTbZO-EzeD"
      }
    },
    {
      "cell_type": "code",
      "source": [
        "# Carregar o conjunto de dados Iris\n",
        "iris = load_iris()\n",
        "X = iris.data[:, :2]  # Comprimento e largura da sépala\n",
        "y = iris.data[:, 2]  # Comprimento da pétala\n",
        "\n",
        "# Ajustar o modelo de regressão linear múltipla\n",
        "X = sm.add_constant(X)\n",
        "model = sm.OLS(y, X).fit()\n",
        "\n",
        "# Imprimir os resultados\n",
        "print(model.summary())"
      ],
      "metadata": {
        "colab": {
          "base_uri": "https://localhost:8080/"
        },
        "id": "2ctfN3rJE50o",
        "outputId": "4ac9698b-5b6b-4fb1-f08e-28da1055a6bd"
      },
      "execution_count": null,
      "outputs": [
        {
          "output_type": "stream",
          "name": "stdout",
          "text": [
            "                            OLS Regression Results                            \n",
            "==============================================================================\n",
            "Dep. Variable:                      y   R-squared:                       0.868\n",
            "Model:                            OLS   Adj. R-squared:                  0.866\n",
            "Method:                 Least Squares   F-statistic:                     482.0\n",
            "Date:                Tue, 09 Apr 2024   Prob (F-statistic):           2.74e-65\n",
            "Time:                        17:57:59   Log-Likelihood:                -145.89\n",
            "No. Observations:                 150   AIC:                             297.8\n",
            "Df Residuals:                     147   BIC:                             306.8\n",
            "Df Model:                           2                                         \n",
            "Covariance Type:            nonrobust                                         \n",
            "==============================================================================\n",
            "                 coef    std err          t      P>|t|      [0.025      0.975]\n",
            "------------------------------------------------------------------------------\n",
            "const         -2.5248      0.563     -4.481      0.000      -3.638      -1.411\n",
            "x1             1.7756      0.064     27.569      0.000       1.648       1.903\n",
            "x2            -1.3386      0.122    -10.940      0.000      -1.580      -1.097\n",
            "==============================================================================\n",
            "Omnibus:                        3.776   Durbin-Watson:                   1.671\n",
            "Prob(Omnibus):                  0.151   Jarque-Bera (JB):                3.833\n",
            "Skew:                           0.372   Prob(JB):                        0.147\n",
            "Kurtosis:                       2.755   Cond. No.                         72.8\n",
            "==============================================================================\n",
            "\n",
            "Notes:\n",
            "[1] Standard Errors assume that the covariance matrix of the errors is correctly specified.\n"
          ]
        }
      ]
    },
    {
      "cell_type": "markdown",
      "source": [
        "### 5. Métodos Não Paramétricos:\n",
        "Exemplo: Este exemplo cria dois conjuntos de dados categóricos pareados com base em valores contínuos do conjunto de dados Iris em seguida, aplica o teste de McNemar a esses dados. Por favor, lembre-se de que este exemplo é apenas para fins ilustrativos e pode não refletir um cenário de aplicação real do teste de McNemar."
      ],
      "metadata": {
        "id": "wAwBsrHWFerr"
      }
    },
    {
      "cell_type": "code",
      "source": [
        "iris = load_iris()\n",
        "\n",
        "# Selecionar apenas as primeiras 100 amostras para as duas primeiras classes\n",
        "X_setosa = iris.data[:100]  # Amostras da classe 'setosa'\n",
        "X_versicolor = iris.data[50:150]  # Amostras da classe 'versicolor'\n",
        "\n",
        "# Definir uma função para converter valores contínuos em categóricos\n",
        "def categorize(data):\n",
        "    # Vamos assumir que valores menores que a média são 'baixos' e maiores são 'altos'\n",
        "    threshold = np.mean(data)\n",
        "    return np.where(data < threshold, 'baixo', 'alto')\n",
        "\n",
        "# Aplicar a função de categorização aos dados\n",
        "X_setosa_cat = categorize(X_setosa)\n",
        "X_versicolor_cat = categorize(X_versicolor)\n",
        "\n",
        "# Realizar o teste de McNemar\n",
        "result = mcnemar(X_setosa_cat, X_versicolor_cat)\n",
        "\n",
        "# Imprimir o resultado\n",
        "print(\"Estatística de teste:\", result)"
      ],
      "metadata": {
        "colab": {
          "base_uri": "https://localhost:8080/"
        },
        "id": "Uo2OTSGKFs-q",
        "outputId": "91859c3b-8786-4c4a-e971-dbd42e4dc621"
      },
      "execution_count": null,
      "outputs": [
        {
          "output_type": "stream",
          "name": "stdout",
          "text": [
            "Estatística de teste: (array([0, 0, 0, 0]), array([1.00000000e+00, 1.77635684e-15, 1.81898940e-12, 1.00000000e+00]))\n"
          ]
        },
        {
          "output_type": "stream",
          "name": "stderr",
          "text": [
            "/usr/local/lib/python3.10/dist-packages/statsmodels/sandbox/stats/runs.py:542: FutureWarning: Deprecated, use stats.TableSymmetry instead\n",
            "  warnings.warn(\"Deprecated, use stats.TableSymmetry instead\", FutureWarning)\n"
          ]
        }
      ]
    },
    {
      "cell_type": "markdown",
      "source": [
        "### 6. Métodos Estatísticos Robustos:\n",
        "Exemplo: Este exemplo carrega o conjunto de dados Iris e realiza um ajuste de regressão linear robusta usando o método de Huber para prever a variável de destino y (tipo de íris) com base no comprimento da pétala (X). O modelo é ajustado usando a classe RLM (Mínimos Quadrados Robustos) do Statsmodels, com o método de Huber especificado através do parâmetro M. O resumo do modelo inclui estatísticas e coeficientes relevantes para a análise do teste t robusto."
      ],
      "metadata": {
        "id": "1fl7DYbdFivI"
      }
    },
    {
      "cell_type": "code",
      "source": [
        "# Carregar o conjunto de dados Iris\n",
        "iris = load_iris()\n",
        "X = iris.data[:, 2]  # Comprimento da pétala\n",
        "y = iris.target  # Tipo de íris (0, 1, 2)\n",
        "\n",
        "# Adicionar uma constante aos dados para incluir um termo de interceptação no modelo\n",
        "X_with_const = sm.add_constant(X)\n",
        "\n",
        "# Inicializar e ajustar o modelo de regressão robusta de Huber\n",
        "huber_model = sm.RLM(y, X_with_const, M=sm.robust.norms.HuberT())\n",
        "huber_results = huber_model.fit()\n",
        "\n",
        "# Imprimir o resumo do modelo\n",
        "print(huber_results.summary())"
      ],
      "metadata": {
        "colab": {
          "base_uri": "https://localhost:8080/"
        },
        "id": "olfdKe38FtUk",
        "outputId": "b7b9afb6-f819-4cd1-b2d5-7cbe7423aebb"
      },
      "execution_count": null,
      "outputs": [
        {
          "output_type": "stream",
          "name": "stdout",
          "text": [
            "                    Robust linear Model Regression Results                    \n",
            "==============================================================================\n",
            "Dep. Variable:                      y   No. Observations:                  150\n",
            "Model:                            RLM   Df Residuals:                      148\n",
            "Method:                          IRLS   Df Model:                            1\n",
            "Norm:                          HuberT                                         \n",
            "Scale Est.:                       mad                                         \n",
            "Cov Type:                          H1                                         \n",
            "Date:                Tue, 09 Apr 2024                                         \n",
            "Time:                        17:57:59                                         \n",
            "No. Iterations:                    24                                         \n",
            "==============================================================================\n",
            "                 coef    std err          z      P>|z|      [0.025      0.975]\n",
            "------------------------------------------------------------------------------\n",
            "const         -0.6527      0.055    -11.778      0.000      -0.761      -0.544\n",
            "x1             0.4381      0.013     32.806      0.000       0.412       0.464\n",
            "==============================================================================\n",
            "\n",
            "If the model instance has been used for another fit with different fit parameters, then the fit options might not be the correct ones anymore .\n"
          ]
        }
      ]
    },
    {
      "cell_type": "markdown",
      "source": [
        "# Referencias:\n",
        "\n",
        "1. [PythonStacks](https://www.pythonstacks.com/blog/post/libraries-mathematics-and-computation/)\n",
        "2. [DataScience Academy](https://blog.dsacademy.com.br/top-25-bibliotecas-python-para-data_science/)\n",
        "3. [Medium - Introduction to Math Library](https://medium.com/illumination/python-introduction-to-math-library-1ac1bca2740a)\n",
        "4. [10 Best Math Libraries for Python](https://helpfreshers.medium.com/10-best-math-libraries-for-python-c420f61a4a4a)\n",
        "5. [Mastering Statistical Analysis with Statsmodel Library](https://medium.com/@panData/mastering-statistical-analysis-with-statsmodel-library-with-code-d59e84c5b371)\n",
        "6. [Numpy Documentation](https://numpy.org/doc/stable/user/index.html#user)\n",
        "7. [Scipy Documentation](https://docs.scipy.org/doc/scipy/)"
      ],
      "metadata": {
        "id": "ym3I-G9Uj1TW"
      }
    }
  ]
}